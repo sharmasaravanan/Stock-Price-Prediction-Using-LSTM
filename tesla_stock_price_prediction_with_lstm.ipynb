{
  "metadata": {
    "kernelspec": {
      "language": "python",
      "display_name": "Python 3",
      "name": "python3"
    },
    "language_info": {
      "name": "python",
      "version": "3.7.12",
      "mimetype": "text/x-python",
      "codemirror_mode": {
        "name": "ipython",
        "version": 3
      },
      "pygments_lexer": "ipython3",
      "nbconvert_exporter": "python",
      "file_extension": ".py"
    },
    "colab": {
      "provenance": []
    }
  },
  "nbformat_minor": 0,
  "nbformat": 4,
  "cells": [
    {
      "cell_type": "markdown",
      "source": [
        "# **Importing Necessary Libraries**"
      ],
      "metadata": {
        "id": "oeGday1XDODc"
      }
    },
    {
      "cell_type": "code",
      "source": [
        "import math\n",
        "import matplotlib.pyplot as plt\n",
        "import pandas as pd\n",
        "import numpy as np\n",
        "import seaborn as sns\n",
        "import keras\n",
        "from keras.models import Sequential\n",
        "from keras.layers import Dense\n",
        "from keras.layers import LSTM\n",
        "from keras.layers import Dropout\n",
        "from keras.callbacks import EarlyStopping\n",
        "\n",
        "from sklearn.preprocessing import MinMaxScaler\n",
        "from sklearn.metrics import mean_squared_error\n",
        "from sklearn.metrics import mean_absolute_error\n",
        "from sklearn.model_selection import train_test_split"
      ],
      "metadata": {
        "id": "9BgzuJAzddQU",
        "execution": {
          "iopub.status.busy": "2022-09-23T14:22:27.600123Z",
          "iopub.execute_input": "2022-09-23T14:22:27.600719Z",
          "iopub.status.idle": "2022-09-23T14:22:31.258894Z",
          "shell.execute_reply.started": "2022-09-23T14:22:27.600672Z",
          "shell.execute_reply": "2022-09-23T14:22:31.257719Z"
        },
        "trusted": true
      },
      "execution_count": 1,
      "outputs": []
    },
    {
      "cell_type": "markdown",
      "source": [
        "# **Reading The Data**"
      ],
      "metadata": {
        "id": "6eV1VTczDHrT"
      }
    },
    {
      "cell_type": "code",
      "source": [
        "df = pd.read_csv(\"./Tesla.csv\" , parse_dates=True , index_col=\"Date\")\n",
        "df.head()"
      ],
      "metadata": {
        "id": "Cb3UUEySxWow",
        "outputId": "225750ca-56fd-4f63-b556-e1303a3ca3d9",
        "execution": {
          "iopub.status.busy": "2022-09-23T14:22:31.261008Z",
          "iopub.execute_input": "2022-09-23T14:22:31.262770Z",
          "iopub.status.idle": "2022-09-23T14:22:31.458203Z",
          "shell.execute_reply.started": "2022-09-23T14:22:31.262725Z",
          "shell.execute_reply": "2022-09-23T14:22:31.457040Z"
        },
        "trusted": true,
        "colab": {
          "base_uri": "https://localhost:8080/",
          "height": 238
        }
      },
      "execution_count": 3,
      "outputs": [
        {
          "output_type": "execute_result",
          "data": {
            "text/plain": [
              "                 Open   High        Low      Close    Volume  Adj Close\n",
              "Date                                                                   \n",
              "2010-06-29  19.000000  25.00  17.540001  23.889999  18766300  23.889999\n",
              "2010-06-30  25.790001  30.42  23.299999  23.830000  17187100  23.830000\n",
              "2010-07-01  25.000000  25.92  20.270000  21.959999   8218800  21.959999\n",
              "2010-07-02  23.000000  23.10  18.709999  19.200001   5139800  19.200001\n",
              "2010-07-06  20.000000  20.00  15.830000  16.110001   6866900  16.110001"
            ],
            "text/html": [
              "\n",
              "  <div id=\"df-bd172dba-546f-4034-ae37-c65371e9c07b\" class=\"colab-df-container\">\n",
              "    <div>\n",
              "<style scoped>\n",
              "    .dataframe tbody tr th:only-of-type {\n",
              "        vertical-align: middle;\n",
              "    }\n",
              "\n",
              "    .dataframe tbody tr th {\n",
              "        vertical-align: top;\n",
              "    }\n",
              "\n",
              "    .dataframe thead th {\n",
              "        text-align: right;\n",
              "    }\n",
              "</style>\n",
              "<table border=\"1\" class=\"dataframe\">\n",
              "  <thead>\n",
              "    <tr style=\"text-align: right;\">\n",
              "      <th></th>\n",
              "      <th>Open</th>\n",
              "      <th>High</th>\n",
              "      <th>Low</th>\n",
              "      <th>Close</th>\n",
              "      <th>Volume</th>\n",
              "      <th>Adj Close</th>\n",
              "    </tr>\n",
              "    <tr>\n",
              "      <th>Date</th>\n",
              "      <th></th>\n",
              "      <th></th>\n",
              "      <th></th>\n",
              "      <th></th>\n",
              "      <th></th>\n",
              "      <th></th>\n",
              "    </tr>\n",
              "  </thead>\n",
              "  <tbody>\n",
              "    <tr>\n",
              "      <th>2010-06-29</th>\n",
              "      <td>19.000000</td>\n",
              "      <td>25.00</td>\n",
              "      <td>17.540001</td>\n",
              "      <td>23.889999</td>\n",
              "      <td>18766300</td>\n",
              "      <td>23.889999</td>\n",
              "    </tr>\n",
              "    <tr>\n",
              "      <th>2010-06-30</th>\n",
              "      <td>25.790001</td>\n",
              "      <td>30.42</td>\n",
              "      <td>23.299999</td>\n",
              "      <td>23.830000</td>\n",
              "      <td>17187100</td>\n",
              "      <td>23.830000</td>\n",
              "    </tr>\n",
              "    <tr>\n",
              "      <th>2010-07-01</th>\n",
              "      <td>25.000000</td>\n",
              "      <td>25.92</td>\n",
              "      <td>20.270000</td>\n",
              "      <td>21.959999</td>\n",
              "      <td>8218800</td>\n",
              "      <td>21.959999</td>\n",
              "    </tr>\n",
              "    <tr>\n",
              "      <th>2010-07-02</th>\n",
              "      <td>23.000000</td>\n",
              "      <td>23.10</td>\n",
              "      <td>18.709999</td>\n",
              "      <td>19.200001</td>\n",
              "      <td>5139800</td>\n",
              "      <td>19.200001</td>\n",
              "    </tr>\n",
              "    <tr>\n",
              "      <th>2010-07-06</th>\n",
              "      <td>20.000000</td>\n",
              "      <td>20.00</td>\n",
              "      <td>15.830000</td>\n",
              "      <td>16.110001</td>\n",
              "      <td>6866900</td>\n",
              "      <td>16.110001</td>\n",
              "    </tr>\n",
              "  </tbody>\n",
              "</table>\n",
              "</div>\n",
              "    <div class=\"colab-df-buttons\">\n",
              "\n",
              "  <div class=\"colab-df-container\">\n",
              "    <button class=\"colab-df-convert\" onclick=\"convertToInteractive('df-bd172dba-546f-4034-ae37-c65371e9c07b')\"\n",
              "            title=\"Convert this dataframe to an interactive table.\"\n",
              "            style=\"display:none;\">\n",
              "\n",
              "  <svg xmlns=\"http://www.w3.org/2000/svg\" height=\"24px\" viewBox=\"0 -960 960 960\">\n",
              "    <path d=\"M120-120v-720h720v720H120Zm60-500h600v-160H180v160Zm220 220h160v-160H400v160Zm0 220h160v-160H400v160ZM180-400h160v-160H180v160Zm440 0h160v-160H620v160ZM180-180h160v-160H180v160Zm440 0h160v-160H620v160Z\"/>\n",
              "  </svg>\n",
              "    </button>\n",
              "\n",
              "  <style>\n",
              "    .colab-df-container {\n",
              "      display:flex;\n",
              "      gap: 12px;\n",
              "    }\n",
              "\n",
              "    .colab-df-convert {\n",
              "      background-color: #E8F0FE;\n",
              "      border: none;\n",
              "      border-radius: 50%;\n",
              "      cursor: pointer;\n",
              "      display: none;\n",
              "      fill: #1967D2;\n",
              "      height: 32px;\n",
              "      padding: 0 0 0 0;\n",
              "      width: 32px;\n",
              "    }\n",
              "\n",
              "    .colab-df-convert:hover {\n",
              "      background-color: #E2EBFA;\n",
              "      box-shadow: 0px 1px 2px rgba(60, 64, 67, 0.3), 0px 1px 3px 1px rgba(60, 64, 67, 0.15);\n",
              "      fill: #174EA6;\n",
              "    }\n",
              "\n",
              "    .colab-df-buttons div {\n",
              "      margin-bottom: 4px;\n",
              "    }\n",
              "\n",
              "    [theme=dark] .colab-df-convert {\n",
              "      background-color: #3B4455;\n",
              "      fill: #D2E3FC;\n",
              "    }\n",
              "\n",
              "    [theme=dark] .colab-df-convert:hover {\n",
              "      background-color: #434B5C;\n",
              "      box-shadow: 0px 1px 3px 1px rgba(0, 0, 0, 0.15);\n",
              "      filter: drop-shadow(0px 1px 2px rgba(0, 0, 0, 0.3));\n",
              "      fill: #FFFFFF;\n",
              "    }\n",
              "  </style>\n",
              "\n",
              "    <script>\n",
              "      const buttonEl =\n",
              "        document.querySelector('#df-bd172dba-546f-4034-ae37-c65371e9c07b button.colab-df-convert');\n",
              "      buttonEl.style.display =\n",
              "        google.colab.kernel.accessAllowed ? 'block' : 'none';\n",
              "\n",
              "      async function convertToInteractive(key) {\n",
              "        const element = document.querySelector('#df-bd172dba-546f-4034-ae37-c65371e9c07b');\n",
              "        const dataTable =\n",
              "          await google.colab.kernel.invokeFunction('convertToInteractive',\n",
              "                                                    [key], {});\n",
              "        if (!dataTable) return;\n",
              "\n",
              "        const docLinkHtml = 'Like what you see? Visit the ' +\n",
              "          '<a target=\"_blank\" href=https://colab.research.google.com/notebooks/data_table.ipynb>data table notebook</a>'\n",
              "          + ' to learn more about interactive tables.';\n",
              "        element.innerHTML = '';\n",
              "        dataTable['output_type'] = 'display_data';\n",
              "        await google.colab.output.renderOutput(dataTable, element);\n",
              "        const docLink = document.createElement('div');\n",
              "        docLink.innerHTML = docLinkHtml;\n",
              "        element.appendChild(docLink);\n",
              "      }\n",
              "    </script>\n",
              "  </div>\n",
              "\n",
              "\n",
              "<div id=\"df-33c32cd6-74c2-452c-a331-c579d054a4c8\">\n",
              "  <button class=\"colab-df-quickchart\" onclick=\"quickchart('df-33c32cd6-74c2-452c-a331-c579d054a4c8')\"\n",
              "            title=\"Suggest charts\"\n",
              "            style=\"display:none;\">\n",
              "\n",
              "<svg xmlns=\"http://www.w3.org/2000/svg\" height=\"24px\"viewBox=\"0 0 24 24\"\n",
              "     width=\"24px\">\n",
              "    <g>\n",
              "        <path d=\"M19 3H5c-1.1 0-2 .9-2 2v14c0 1.1.9 2 2 2h14c1.1 0 2-.9 2-2V5c0-1.1-.9-2-2-2zM9 17H7v-7h2v7zm4 0h-2V7h2v10zm4 0h-2v-4h2v4z\"/>\n",
              "    </g>\n",
              "</svg>\n",
              "  </button>\n",
              "\n",
              "<style>\n",
              "  .colab-df-quickchart {\n",
              "      --bg-color: #E8F0FE;\n",
              "      --fill-color: #1967D2;\n",
              "      --hover-bg-color: #E2EBFA;\n",
              "      --hover-fill-color: #174EA6;\n",
              "      --disabled-fill-color: #AAA;\n",
              "      --disabled-bg-color: #DDD;\n",
              "  }\n",
              "\n",
              "  [theme=dark] .colab-df-quickchart {\n",
              "      --bg-color: #3B4455;\n",
              "      --fill-color: #D2E3FC;\n",
              "      --hover-bg-color: #434B5C;\n",
              "      --hover-fill-color: #FFFFFF;\n",
              "      --disabled-bg-color: #3B4455;\n",
              "      --disabled-fill-color: #666;\n",
              "  }\n",
              "\n",
              "  .colab-df-quickchart {\n",
              "    background-color: var(--bg-color);\n",
              "    border: none;\n",
              "    border-radius: 50%;\n",
              "    cursor: pointer;\n",
              "    display: none;\n",
              "    fill: var(--fill-color);\n",
              "    height: 32px;\n",
              "    padding: 0;\n",
              "    width: 32px;\n",
              "  }\n",
              "\n",
              "  .colab-df-quickchart:hover {\n",
              "    background-color: var(--hover-bg-color);\n",
              "    box-shadow: 0 1px 2px rgba(60, 64, 67, 0.3), 0 1px 3px 1px rgba(60, 64, 67, 0.15);\n",
              "    fill: var(--button-hover-fill-color);\n",
              "  }\n",
              "\n",
              "  .colab-df-quickchart-complete:disabled,\n",
              "  .colab-df-quickchart-complete:disabled:hover {\n",
              "    background-color: var(--disabled-bg-color);\n",
              "    fill: var(--disabled-fill-color);\n",
              "    box-shadow: none;\n",
              "  }\n",
              "\n",
              "  .colab-df-spinner {\n",
              "    border: 2px solid var(--fill-color);\n",
              "    border-color: transparent;\n",
              "    border-bottom-color: var(--fill-color);\n",
              "    animation:\n",
              "      spin 1s steps(1) infinite;\n",
              "  }\n",
              "\n",
              "  @keyframes spin {\n",
              "    0% {\n",
              "      border-color: transparent;\n",
              "      border-bottom-color: var(--fill-color);\n",
              "      border-left-color: var(--fill-color);\n",
              "    }\n",
              "    20% {\n",
              "      border-color: transparent;\n",
              "      border-left-color: var(--fill-color);\n",
              "      border-top-color: var(--fill-color);\n",
              "    }\n",
              "    30% {\n",
              "      border-color: transparent;\n",
              "      border-left-color: var(--fill-color);\n",
              "      border-top-color: var(--fill-color);\n",
              "      border-right-color: var(--fill-color);\n",
              "    }\n",
              "    40% {\n",
              "      border-color: transparent;\n",
              "      border-right-color: var(--fill-color);\n",
              "      border-top-color: var(--fill-color);\n",
              "    }\n",
              "    60% {\n",
              "      border-color: transparent;\n",
              "      border-right-color: var(--fill-color);\n",
              "    }\n",
              "    80% {\n",
              "      border-color: transparent;\n",
              "      border-right-color: var(--fill-color);\n",
              "      border-bottom-color: var(--fill-color);\n",
              "    }\n",
              "    90% {\n",
              "      border-color: transparent;\n",
              "      border-bottom-color: var(--fill-color);\n",
              "    }\n",
              "  }\n",
              "</style>\n",
              "\n",
              "  <script>\n",
              "    async function quickchart(key) {\n",
              "      const quickchartButtonEl =\n",
              "        document.querySelector('#' + key + ' button');\n",
              "      quickchartButtonEl.disabled = true;  // To prevent multiple clicks.\n",
              "      quickchartButtonEl.classList.add('colab-df-spinner');\n",
              "      try {\n",
              "        const charts = await google.colab.kernel.invokeFunction(\n",
              "            'suggestCharts', [key], {});\n",
              "      } catch (error) {\n",
              "        console.error('Error during call to suggestCharts:', error);\n",
              "      }\n",
              "      quickchartButtonEl.classList.remove('colab-df-spinner');\n",
              "      quickchartButtonEl.classList.add('colab-df-quickchart-complete');\n",
              "    }\n",
              "    (() => {\n",
              "      let quickchartButtonEl =\n",
              "        document.querySelector('#df-33c32cd6-74c2-452c-a331-c579d054a4c8 button');\n",
              "      quickchartButtonEl.style.display =\n",
              "        google.colab.kernel.accessAllowed ? 'block' : 'none';\n",
              "    })();\n",
              "  </script>\n",
              "</div>\n",
              "\n",
              "    </div>\n",
              "  </div>\n"
            ],
            "application/vnd.google.colaboratory.intrinsic+json": {
              "type": "dataframe",
              "variable_name": "df",
              "summary": "{\n  \"name\": \"df\",\n  \"rows\": 1692,\n  \"fields\": [\n    {\n      \"column\": \"Date\",\n      \"properties\": {\n        \"dtype\": \"date\",\n        \"min\": \"2010-06-29 00:00:00\",\n        \"max\": \"2017-03-17 00:00:00\",\n        \"num_unique_values\": 1692,\n        \"samples\": [\n          \"2014-06-04 00:00:00\",\n          \"2016-12-28 00:00:00\",\n          \"2015-04-30 00:00:00\"\n        ],\n        \"semantic_type\": \"\",\n        \"description\": \"\"\n      }\n    },\n    {\n      \"column\": \"Open\",\n      \"properties\": {\n        \"dtype\": \"number\",\n        \"std\": 94.30992332283297,\n        \"min\": 16.139999,\n        \"max\": 287.670013,\n        \"num_unique_values\": 1464,\n        \"samples\": [\n          234.979996,\n          27.58,\n          27.860001\n        ],\n        \"semantic_type\": \"\",\n        \"description\": \"\"\n      }\n    },\n    {\n      \"column\": \"High\",\n      \"properties\": {\n        \"dtype\": \"number\",\n        \"std\": 95.69491432029604,\n        \"min\": 16.629999,\n        \"max\": 291.420013,\n        \"num_unique_values\": 1470,\n        \"samples\": [\n          210.369995,\n          28.950001,\n          205.070007\n        ],\n        \"semantic_type\": \"\",\n        \"description\": \"\"\n      }\n    },\n    {\n      \"column\": \"Low\",\n      \"properties\": {\n        \"dtype\": \"number\",\n        \"std\": 92.85522729476068,\n        \"min\": 14.98,\n        \"max\": 280.399994,\n        \"num_unique_values\": 1468,\n        \"samples\": [\n          223.639999,\n          25.299999,\n          188.880005\n        ],\n        \"semantic_type\": \"\",\n        \"description\": \"\"\n      }\n    },\n    {\n      \"column\": \"Close\",\n      \"properties\": {\n        \"dtype\": \"number\",\n        \"std\": 94.31318671731363,\n        \"min\": 15.8,\n        \"max\": 286.040009,\n        \"num_unique_values\": 1528,\n        \"samples\": [\n          32.150002,\n          24.440001,\n          266.790009\n        ],\n        \"semantic_type\": \"\",\n        \"description\": \"\"\n      }\n    },\n    {\n      \"column\": \"Volume\",\n      \"properties\": {\n        \"dtype\": \"number\",\n        \"std\": 4295971,\n        \"min\": 118500,\n        \"max\": 37163900,\n        \"num_unique_values\": 1676,\n        \"samples\": [\n          12740000,\n          2553500,\n          535700\n        ],\n        \"semantic_type\": \"\",\n        \"description\": \"\"\n      }\n    },\n    {\n      \"column\": \"Adj Close\",\n      \"properties\": {\n        \"dtype\": \"number\",\n        \"std\": 94.31318671731363,\n        \"min\": 15.8,\n        \"max\": 286.040009,\n        \"num_unique_values\": 1528,\n        \"samples\": [\n          32.150002,\n          24.440001,\n          266.790009\n        ],\n        \"semantic_type\": \"\",\n        \"description\": \"\"\n      }\n    }\n  ]\n}"
            }
          },
          "metadata": {},
          "execution_count": 3
        }
      ]
    },
    {
      "cell_type": "code",
      "source": [
        "df.describe()"
      ],
      "metadata": {
        "id": "ST105OhOfIst",
        "outputId": "ce3b00ab-cdac-48ec-ce38-55886cd54248",
        "execution": {
          "iopub.status.busy": "2022-09-23T14:22:31.459715Z",
          "iopub.execute_input": "2022-09-23T14:22:31.460159Z",
          "iopub.status.idle": "2022-09-23T14:22:31.510531Z",
          "shell.execute_reply.started": "2022-09-23T14:22:31.460124Z",
          "shell.execute_reply": "2022-09-23T14:22:31.509545Z"
        },
        "trusted": true,
        "colab": {
          "base_uri": "https://localhost:8080/",
          "height": 300
        }
      },
      "execution_count": 4,
      "outputs": [
        {
          "output_type": "execute_result",
          "data": {
            "text/plain": [
              "              Open         High          Low        Close        Volume  \\\n",
              "count  1692.000000  1692.000000  1692.000000  1692.000000  1.692000e+03   \n",
              "mean    132.441572   134.769698   129.996223   132.428658  4.270741e+06   \n",
              "std      94.309923    95.694914    92.855227    94.313187  4.295971e+06   \n",
              "min      16.139999    16.629999    14.980000    15.800000  1.185000e+05   \n",
              "25%      30.000000    30.650000    29.215000    29.884999  1.194350e+06   \n",
              "50%     156.334999   162.370002   153.150002   158.160004  3.180700e+06   \n",
              "75%     220.557495   224.099999   217.119999   220.022503  5.662100e+06   \n",
              "max     287.670013   291.420013   280.399994   286.040009  3.716390e+07   \n",
              "\n",
              "         Adj Close  \n",
              "count  1692.000000  \n",
              "mean    132.428658  \n",
              "std      94.313187  \n",
              "min      15.800000  \n",
              "25%      29.884999  \n",
              "50%     158.160004  \n",
              "75%     220.022503  \n",
              "max     286.040009  "
            ],
            "text/html": [
              "\n",
              "  <div id=\"df-c948b381-c06c-4c78-a3a0-729bf59e4d87\" class=\"colab-df-container\">\n",
              "    <div>\n",
              "<style scoped>\n",
              "    .dataframe tbody tr th:only-of-type {\n",
              "        vertical-align: middle;\n",
              "    }\n",
              "\n",
              "    .dataframe tbody tr th {\n",
              "        vertical-align: top;\n",
              "    }\n",
              "\n",
              "    .dataframe thead th {\n",
              "        text-align: right;\n",
              "    }\n",
              "</style>\n",
              "<table border=\"1\" class=\"dataframe\">\n",
              "  <thead>\n",
              "    <tr style=\"text-align: right;\">\n",
              "      <th></th>\n",
              "      <th>Open</th>\n",
              "      <th>High</th>\n",
              "      <th>Low</th>\n",
              "      <th>Close</th>\n",
              "      <th>Volume</th>\n",
              "      <th>Adj Close</th>\n",
              "    </tr>\n",
              "  </thead>\n",
              "  <tbody>\n",
              "    <tr>\n",
              "      <th>count</th>\n",
              "      <td>1692.000000</td>\n",
              "      <td>1692.000000</td>\n",
              "      <td>1692.000000</td>\n",
              "      <td>1692.000000</td>\n",
              "      <td>1.692000e+03</td>\n",
              "      <td>1692.000000</td>\n",
              "    </tr>\n",
              "    <tr>\n",
              "      <th>mean</th>\n",
              "      <td>132.441572</td>\n",
              "      <td>134.769698</td>\n",
              "      <td>129.996223</td>\n",
              "      <td>132.428658</td>\n",
              "      <td>4.270741e+06</td>\n",
              "      <td>132.428658</td>\n",
              "    </tr>\n",
              "    <tr>\n",
              "      <th>std</th>\n",
              "      <td>94.309923</td>\n",
              "      <td>95.694914</td>\n",
              "      <td>92.855227</td>\n",
              "      <td>94.313187</td>\n",
              "      <td>4.295971e+06</td>\n",
              "      <td>94.313187</td>\n",
              "    </tr>\n",
              "    <tr>\n",
              "      <th>min</th>\n",
              "      <td>16.139999</td>\n",
              "      <td>16.629999</td>\n",
              "      <td>14.980000</td>\n",
              "      <td>15.800000</td>\n",
              "      <td>1.185000e+05</td>\n",
              "      <td>15.800000</td>\n",
              "    </tr>\n",
              "    <tr>\n",
              "      <th>25%</th>\n",
              "      <td>30.000000</td>\n",
              "      <td>30.650000</td>\n",
              "      <td>29.215000</td>\n",
              "      <td>29.884999</td>\n",
              "      <td>1.194350e+06</td>\n",
              "      <td>29.884999</td>\n",
              "    </tr>\n",
              "    <tr>\n",
              "      <th>50%</th>\n",
              "      <td>156.334999</td>\n",
              "      <td>162.370002</td>\n",
              "      <td>153.150002</td>\n",
              "      <td>158.160004</td>\n",
              "      <td>3.180700e+06</td>\n",
              "      <td>158.160004</td>\n",
              "    </tr>\n",
              "    <tr>\n",
              "      <th>75%</th>\n",
              "      <td>220.557495</td>\n",
              "      <td>224.099999</td>\n",
              "      <td>217.119999</td>\n",
              "      <td>220.022503</td>\n",
              "      <td>5.662100e+06</td>\n",
              "      <td>220.022503</td>\n",
              "    </tr>\n",
              "    <tr>\n",
              "      <th>max</th>\n",
              "      <td>287.670013</td>\n",
              "      <td>291.420013</td>\n",
              "      <td>280.399994</td>\n",
              "      <td>286.040009</td>\n",
              "      <td>3.716390e+07</td>\n",
              "      <td>286.040009</td>\n",
              "    </tr>\n",
              "  </tbody>\n",
              "</table>\n",
              "</div>\n",
              "    <div class=\"colab-df-buttons\">\n",
              "\n",
              "  <div class=\"colab-df-container\">\n",
              "    <button class=\"colab-df-convert\" onclick=\"convertToInteractive('df-c948b381-c06c-4c78-a3a0-729bf59e4d87')\"\n",
              "            title=\"Convert this dataframe to an interactive table.\"\n",
              "            style=\"display:none;\">\n",
              "\n",
              "  <svg xmlns=\"http://www.w3.org/2000/svg\" height=\"24px\" viewBox=\"0 -960 960 960\">\n",
              "    <path d=\"M120-120v-720h720v720H120Zm60-500h600v-160H180v160Zm220 220h160v-160H400v160Zm0 220h160v-160H400v160ZM180-400h160v-160H180v160Zm440 0h160v-160H620v160ZM180-180h160v-160H180v160Zm440 0h160v-160H620v160Z\"/>\n",
              "  </svg>\n",
              "    </button>\n",
              "\n",
              "  <style>\n",
              "    .colab-df-container {\n",
              "      display:flex;\n",
              "      gap: 12px;\n",
              "    }\n",
              "\n",
              "    .colab-df-convert {\n",
              "      background-color: #E8F0FE;\n",
              "      border: none;\n",
              "      border-radius: 50%;\n",
              "      cursor: pointer;\n",
              "      display: none;\n",
              "      fill: #1967D2;\n",
              "      height: 32px;\n",
              "      padding: 0 0 0 0;\n",
              "      width: 32px;\n",
              "    }\n",
              "\n",
              "    .colab-df-convert:hover {\n",
              "      background-color: #E2EBFA;\n",
              "      box-shadow: 0px 1px 2px rgba(60, 64, 67, 0.3), 0px 1px 3px 1px rgba(60, 64, 67, 0.15);\n",
              "      fill: #174EA6;\n",
              "    }\n",
              "\n",
              "    .colab-df-buttons div {\n",
              "      margin-bottom: 4px;\n",
              "    }\n",
              "\n",
              "    [theme=dark] .colab-df-convert {\n",
              "      background-color: #3B4455;\n",
              "      fill: #D2E3FC;\n",
              "    }\n",
              "\n",
              "    [theme=dark] .colab-df-convert:hover {\n",
              "      background-color: #434B5C;\n",
              "      box-shadow: 0px 1px 3px 1px rgba(0, 0, 0, 0.15);\n",
              "      filter: drop-shadow(0px 1px 2px rgba(0, 0, 0, 0.3));\n",
              "      fill: #FFFFFF;\n",
              "    }\n",
              "  </style>\n",
              "\n",
              "    <script>\n",
              "      const buttonEl =\n",
              "        document.querySelector('#df-c948b381-c06c-4c78-a3a0-729bf59e4d87 button.colab-df-convert');\n",
              "      buttonEl.style.display =\n",
              "        google.colab.kernel.accessAllowed ? 'block' : 'none';\n",
              "\n",
              "      async function convertToInteractive(key) {\n",
              "        const element = document.querySelector('#df-c948b381-c06c-4c78-a3a0-729bf59e4d87');\n",
              "        const dataTable =\n",
              "          await google.colab.kernel.invokeFunction('convertToInteractive',\n",
              "                                                    [key], {});\n",
              "        if (!dataTable) return;\n",
              "\n",
              "        const docLinkHtml = 'Like what you see? Visit the ' +\n",
              "          '<a target=\"_blank\" href=https://colab.research.google.com/notebooks/data_table.ipynb>data table notebook</a>'\n",
              "          + ' to learn more about interactive tables.';\n",
              "        element.innerHTML = '';\n",
              "        dataTable['output_type'] = 'display_data';\n",
              "        await google.colab.output.renderOutput(dataTable, element);\n",
              "        const docLink = document.createElement('div');\n",
              "        docLink.innerHTML = docLinkHtml;\n",
              "        element.appendChild(docLink);\n",
              "      }\n",
              "    </script>\n",
              "  </div>\n",
              "\n",
              "\n",
              "<div id=\"df-14738afb-3ea0-4b3c-971a-cb35251c3ee6\">\n",
              "  <button class=\"colab-df-quickchart\" onclick=\"quickchart('df-14738afb-3ea0-4b3c-971a-cb35251c3ee6')\"\n",
              "            title=\"Suggest charts\"\n",
              "            style=\"display:none;\">\n",
              "\n",
              "<svg xmlns=\"http://www.w3.org/2000/svg\" height=\"24px\"viewBox=\"0 0 24 24\"\n",
              "     width=\"24px\">\n",
              "    <g>\n",
              "        <path d=\"M19 3H5c-1.1 0-2 .9-2 2v14c0 1.1.9 2 2 2h14c1.1 0 2-.9 2-2V5c0-1.1-.9-2-2-2zM9 17H7v-7h2v7zm4 0h-2V7h2v10zm4 0h-2v-4h2v4z\"/>\n",
              "    </g>\n",
              "</svg>\n",
              "  </button>\n",
              "\n",
              "<style>\n",
              "  .colab-df-quickchart {\n",
              "      --bg-color: #E8F0FE;\n",
              "      --fill-color: #1967D2;\n",
              "      --hover-bg-color: #E2EBFA;\n",
              "      --hover-fill-color: #174EA6;\n",
              "      --disabled-fill-color: #AAA;\n",
              "      --disabled-bg-color: #DDD;\n",
              "  }\n",
              "\n",
              "  [theme=dark] .colab-df-quickchart {\n",
              "      --bg-color: #3B4455;\n",
              "      --fill-color: #D2E3FC;\n",
              "      --hover-bg-color: #434B5C;\n",
              "      --hover-fill-color: #FFFFFF;\n",
              "      --disabled-bg-color: #3B4455;\n",
              "      --disabled-fill-color: #666;\n",
              "  }\n",
              "\n",
              "  .colab-df-quickchart {\n",
              "    background-color: var(--bg-color);\n",
              "    border: none;\n",
              "    border-radius: 50%;\n",
              "    cursor: pointer;\n",
              "    display: none;\n",
              "    fill: var(--fill-color);\n",
              "    height: 32px;\n",
              "    padding: 0;\n",
              "    width: 32px;\n",
              "  }\n",
              "\n",
              "  .colab-df-quickchart:hover {\n",
              "    background-color: var(--hover-bg-color);\n",
              "    box-shadow: 0 1px 2px rgba(60, 64, 67, 0.3), 0 1px 3px 1px rgba(60, 64, 67, 0.15);\n",
              "    fill: var(--button-hover-fill-color);\n",
              "  }\n",
              "\n",
              "  .colab-df-quickchart-complete:disabled,\n",
              "  .colab-df-quickchart-complete:disabled:hover {\n",
              "    background-color: var(--disabled-bg-color);\n",
              "    fill: var(--disabled-fill-color);\n",
              "    box-shadow: none;\n",
              "  }\n",
              "\n",
              "  .colab-df-spinner {\n",
              "    border: 2px solid var(--fill-color);\n",
              "    border-color: transparent;\n",
              "    border-bottom-color: var(--fill-color);\n",
              "    animation:\n",
              "      spin 1s steps(1) infinite;\n",
              "  }\n",
              "\n",
              "  @keyframes spin {\n",
              "    0% {\n",
              "      border-color: transparent;\n",
              "      border-bottom-color: var(--fill-color);\n",
              "      border-left-color: var(--fill-color);\n",
              "    }\n",
              "    20% {\n",
              "      border-color: transparent;\n",
              "      border-left-color: var(--fill-color);\n",
              "      border-top-color: var(--fill-color);\n",
              "    }\n",
              "    30% {\n",
              "      border-color: transparent;\n",
              "      border-left-color: var(--fill-color);\n",
              "      border-top-color: var(--fill-color);\n",
              "      border-right-color: var(--fill-color);\n",
              "    }\n",
              "    40% {\n",
              "      border-color: transparent;\n",
              "      border-right-color: var(--fill-color);\n",
              "      border-top-color: var(--fill-color);\n",
              "    }\n",
              "    60% {\n",
              "      border-color: transparent;\n",
              "      border-right-color: var(--fill-color);\n",
              "    }\n",
              "    80% {\n",
              "      border-color: transparent;\n",
              "      border-right-color: var(--fill-color);\n",
              "      border-bottom-color: var(--fill-color);\n",
              "    }\n",
              "    90% {\n",
              "      border-color: transparent;\n",
              "      border-bottom-color: var(--fill-color);\n",
              "    }\n",
              "  }\n",
              "</style>\n",
              "\n",
              "  <script>\n",
              "    async function quickchart(key) {\n",
              "      const quickchartButtonEl =\n",
              "        document.querySelector('#' + key + ' button');\n",
              "      quickchartButtonEl.disabled = true;  // To prevent multiple clicks.\n",
              "      quickchartButtonEl.classList.add('colab-df-spinner');\n",
              "      try {\n",
              "        const charts = await google.colab.kernel.invokeFunction(\n",
              "            'suggestCharts', [key], {});\n",
              "      } catch (error) {\n",
              "        console.error('Error during call to suggestCharts:', error);\n",
              "      }\n",
              "      quickchartButtonEl.classList.remove('colab-df-spinner');\n",
              "      quickchartButtonEl.classList.add('colab-df-quickchart-complete');\n",
              "    }\n",
              "    (() => {\n",
              "      let quickchartButtonEl =\n",
              "        document.querySelector('#df-14738afb-3ea0-4b3c-971a-cb35251c3ee6 button');\n",
              "      quickchartButtonEl.style.display =\n",
              "        google.colab.kernel.accessAllowed ? 'block' : 'none';\n",
              "    })();\n",
              "  </script>\n",
              "</div>\n",
              "\n",
              "    </div>\n",
              "  </div>\n"
            ],
            "application/vnd.google.colaboratory.intrinsic+json": {
              "type": "dataframe",
              "summary": "{\n  \"name\": \"df\",\n  \"rows\": 8,\n  \"fields\": [\n    {\n      \"column\": \"Open\",\n      \"properties\": {\n        \"dtype\": \"number\",\n        \"std\": 558.3197195800012,\n        \"min\": 16.139999,\n        \"max\": 1692.0,\n        \"num_unique_values\": 8,\n        \"samples\": [\n          132.44157213711583,\n          156.33499899999998,\n          1692.0\n        ],\n        \"semantic_type\": \"\",\n        \"description\": \"\"\n      }\n    },\n    {\n      \"column\": \"High\",\n      \"properties\": {\n        \"dtype\": \"number\",\n        \"std\": 557.6307892240077,\n        \"min\": 16.629999,\n        \"max\": 1692.0,\n        \"num_unique_values\": 8,\n        \"samples\": [\n          134.76969843853428,\n          162.3700025,\n          1692.0\n        ],\n        \"semantic_type\": \"\",\n        \"description\": \"\"\n      }\n    },\n    {\n      \"column\": \"Low\",\n      \"properties\": {\n        \"dtype\": \"number\",\n        \"std\": 558.9985575262315,\n        \"min\": 14.98,\n        \"max\": 1692.0,\n        \"num_unique_values\": 8,\n        \"samples\": [\n          129.99622341843974,\n          153.1500015,\n          1692.0\n        ],\n        \"semantic_type\": \"\",\n        \"description\": \"\"\n      }\n    },\n    {\n      \"column\": \"Close\",\n      \"properties\": {\n        \"dtype\": \"number\",\n        \"std\": 558.3083854628202,\n        \"min\": 15.8,\n        \"max\": 1692.0,\n        \"num_unique_values\": 8,\n        \"samples\": [\n          132.4286584858156,\n          158.16000350000002,\n          1692.0\n        ],\n        \"semantic_type\": \"\",\n        \"description\": \"\"\n      }\n    },\n    {\n      \"column\": \"Volume\",\n      \"properties\": {\n        \"dtype\": \"number\",\n        \"std\": 12369512.50957283,\n        \"min\": 1692.0,\n        \"max\": 37163900.0,\n        \"num_unique_values\": 8,\n        \"samples\": [\n          4270740.898345154,\n          3180700.0,\n          1692.0\n        ],\n        \"semantic_type\": \"\",\n        \"description\": \"\"\n      }\n    },\n    {\n      \"column\": \"Adj Close\",\n      \"properties\": {\n        \"dtype\": \"number\",\n        \"std\": 558.3083854628202,\n        \"min\": 15.8,\n        \"max\": 1692.0,\n        \"num_unique_values\": 8,\n        \"samples\": [\n          132.4286584858156,\n          158.16000350000002,\n          1692.0\n        ],\n        \"semantic_type\": \"\",\n        \"description\": \"\"\n      }\n    }\n  ]\n}"
            }
          },
          "metadata": {},
          "execution_count": 4
        }
      ]
    },
    {
      "cell_type": "code",
      "source": [
        "print(df.shape)\n",
        "df.info()"
      ],
      "metadata": {
        "id": "poA5LGAZxWrq",
        "outputId": "17a72202-95c0-4c21-93a1-e9fa177f0ef8",
        "execution": {
          "iopub.status.busy": "2022-09-23T14:22:31.512579Z",
          "iopub.execute_input": "2022-09-23T14:22:31.514030Z",
          "iopub.status.idle": "2022-09-23T14:22:31.533529Z",
          "shell.execute_reply.started": "2022-09-23T14:22:31.513985Z",
          "shell.execute_reply": "2022-09-23T14:22:31.532001Z"
        },
        "trusted": true,
        "colab": {
          "base_uri": "https://localhost:8080/"
        }
      },
      "execution_count": 5,
      "outputs": [
        {
          "output_type": "stream",
          "name": "stdout",
          "text": [
            "(1692, 6)\n",
            "<class 'pandas.core.frame.DataFrame'>\n",
            "DatetimeIndex: 1692 entries, 2010-06-29 to 2017-03-17\n",
            "Data columns (total 6 columns):\n",
            " #   Column     Non-Null Count  Dtype  \n",
            "---  ------     --------------  -----  \n",
            " 0   Open       1692 non-null   float64\n",
            " 1   High       1692 non-null   float64\n",
            " 2   Low        1692 non-null   float64\n",
            " 3   Close      1692 non-null   float64\n",
            " 4   Volume     1692 non-null   int64  \n",
            " 5   Adj Close  1692 non-null   float64\n",
            "dtypes: float64(5), int64(1)\n",
            "memory usage: 92.5 KB\n"
          ]
        }
      ]
    },
    {
      "cell_type": "markdown",
      "source": [
        "# **Data Visualization**"
      ],
      "metadata": {
        "id": "iEtcqhF8CuAM"
      }
    },
    {
      "cell_type": "code",
      "source": [
        "plt.figure(figsize=(15, 7))\n",
        "sns.heatmap(df.corr(),cbar=True,annot=True,cmap='Blues')"
      ],
      "metadata": {
        "id": "u1FnSiN76qG-",
        "outputId": "245069dd-482f-412c-fab2-5406fdeb9228",
        "execution": {
          "iopub.status.busy": "2022-09-23T14:22:31.535069Z",
          "iopub.execute_input": "2022-09-23T14:22:31.535644Z",
          "iopub.status.idle": "2022-09-23T14:22:32.036054Z",
          "shell.execute_reply.started": "2022-09-23T14:22:31.535590Z",
          "shell.execute_reply": "2022-09-23T14:22:32.034518Z"
        },
        "trusted": true,
        "colab": {
          "base_uri": "https://localhost:8080/",
          "height": 622
        }
      },
      "execution_count": 6,
      "outputs": [
        {
          "output_type": "execute_result",
          "data": {
            "text/plain": [
              "<Axes: >"
            ]
          },
          "metadata": {},
          "execution_count": 6
        },
        {
          "output_type": "display_data",
          "data": {
            "text/plain": [
              "<Figure size 1500x700 with 2 Axes>"
            ],
            "image/png": "[encoded data removed]"
          },
          "metadata": {}
        }
      ]
    },
    {
      "cell_type": "code",
      "source": [
        "df[\"Open\"].plot(figsize=(16,8) , color='red')\n",
        "plt.title(\"Open Tesla Stock Price History\")\n",
        "plt.xlabel('Date', fontsize=18)\n",
        "plt.ylabel('Close Price USD', fontsize = 18)"
      ],
      "metadata": {
        "id": "e7sApEMIxWww",
        "outputId": "a61be243-7283-4373-9060-e11e4a56bad5",
        "execution": {
          "iopub.status.busy": "2022-09-23T14:22:32.037637Z",
          "iopub.execute_input": "2022-09-23T14:22:32.038079Z",
          "iopub.status.idle": "2022-09-23T14:22:32.333405Z",
          "shell.execute_reply.started": "2022-09-23T14:22:32.038032Z",
          "shell.execute_reply": "2022-09-23T14:22:32.332207Z"
        },
        "trusted": true,
        "colab": {
          "base_uri": "https://localhost:8080/",
          "height": 689
        }
      },
      "execution_count": 7,
      "outputs": [
        {
          "output_type": "execute_result",
          "data": {
            "text/plain": [
              "Text(0, 0.5, 'Close Price USD')"
            ]
          },
          "metadata": {},
          "execution_count": 7
        },
        {
          "output_type": "display_data",
          "data": {
            "text/plain": [
              "<Figure size 1600x800 with 1 Axes>"
            ],
            "image/png": "[encoded data removed]"
          },
          "metadata": {}
        }
      ]
    },
    {
      "cell_type": "code",
      "source": [
        "print(np.sort(df['Open']), \"This is the Sorted data of Open Share Price\")\n",
        "plt.figure(figsize=(5,5))\n",
        "plt.bar(list(np.sort(df['Open'].value_counts().keys())), list(np.sort(df['Open'].value_counts())))\n",
        "plt.title(\"Sorted Open Share Price Graph\")\n",
        "plt.xlabel(\"Price of Open Share\")\n",
        "plt.ylabel(\"Frequency\")"
      ],
      "metadata": {
        "id": "39I5LoiP7aSF",
        "outputId": "2f166da2-5adb-407f-a2d9-6a9501f746d1",
        "execution": {
          "iopub.status.busy": "2022-09-23T14:22:32.334917Z",
          "iopub.execute_input": "2022-09-23T14:22:32.335401Z",
          "iopub.status.idle": "2022-09-23T14:22:35.324992Z",
          "shell.execute_reply.started": "2022-09-23T14:22:32.335357Z",
          "shell.execute_reply": "2022-09-23T14:22:35.323718Z"
        },
        "trusted": true,
        "colab": {
          "base_uri": "https://localhost:8080/",
          "height": 522
        }
      },
      "execution_count": 8,
      "outputs": [
        {
          "output_type": "stream",
          "name": "stdout",
          "text": [
            "[ 16.139999  16.4       17.389999 ... 282.98999  284.01001  287.670013] This is the Sorted data of Open Share Price\n"
          ]
        },
        {
          "output_type": "execute_result",
          "data": {
            "text/plain": [
              "Text(0, 0.5, 'Frequency')"
            ]
          },
          "metadata": {},
          "execution_count": 8
        },
        {
          "output_type": "display_data",
          "data": {
            "text/plain": [
              "<Figure size 500x500 with 1 Axes>"
            ],
            "image/png": "[encoded data removed]"
          },
          "metadata": {}
        }
      ]
    },
    {
      "cell_type": "markdown",
      "source": [
        "# **Data Preprocessing**"
      ],
      "metadata": {
        "id": "Wda6qwTjbOPb"
      }
    },
    {
      "cell_type": "code",
      "source": [
        "df.isna().any()"
      ],
      "metadata": {
        "id": "SjKRhn8mxWsz",
        "outputId": "0bc550d3-846f-4cab-de1a-7502b255f6fe",
        "execution": {
          "iopub.status.busy": "2022-09-23T14:22:35.327498Z",
          "iopub.execute_input": "2022-09-23T14:22:35.328496Z",
          "iopub.status.idle": "2022-09-23T14:22:35.339076Z",
          "shell.execute_reply.started": "2022-09-23T14:22:35.328455Z",
          "shell.execute_reply": "2022-09-23T14:22:35.337890Z"
        },
        "trusted": true,
        "colab": {
          "base_uri": "https://localhost:8080/",
          "height": 272
        }
      },
      "execution_count": 9,
      "outputs": [
        {
          "output_type": "execute_result",
          "data": {
            "text/plain": [
              "Open         False\n",
              "High         False\n",
              "Low          False\n",
              "Close        False\n",
              "Volume       False\n",
              "Adj Close    False\n",
              "dtype: bool"
            ],
            "text/html": [
              "<div>\n",
              "<style scoped>\n",
              "    .dataframe tbody tr th:only-of-type {\n",
              "        vertical-align: middle;\n",
              "    }\n",
              "\n",
              "    .dataframe tbody tr th {\n",
              "        vertical-align: top;\n",
              "    }\n",
              "\n",
              "    .dataframe thead th {\n",
              "        text-align: right;\n",
              "    }\n",
              "</style>\n",
              "<table border=\"1\" class=\"dataframe\">\n",
              "  <thead>\n",
              "    <tr style=\"text-align: right;\">\n",
              "      <th></th>\n",
              "      <th>0</th>\n",
              "    </tr>\n",
              "  </thead>\n",
              "  <tbody>\n",
              "    <tr>\n",
              "      <th>Open</th>\n",
              "      <td>False</td>\n",
              "    </tr>\n",
              "    <tr>\n",
              "      <th>High</th>\n",
              "      <td>False</td>\n",
              "    </tr>\n",
              "    <tr>\n",
              "      <th>Low</th>\n",
              "      <td>False</td>\n",
              "    </tr>\n",
              "    <tr>\n",
              "      <th>Close</th>\n",
              "      <td>False</td>\n",
              "    </tr>\n",
              "    <tr>\n",
              "      <th>Volume</th>\n",
              "      <td>False</td>\n",
              "    </tr>\n",
              "    <tr>\n",
              "      <th>Adj Close</th>\n",
              "      <td>False</td>\n",
              "    </tr>\n",
              "  </tbody>\n",
              "</table>\n",
              "</div><br><label><b>dtype:</b> bool</label>"
            ]
          },
          "metadata": {},
          "execution_count": 9
        }
      ]
    },
    {
      "cell_type": "markdown",
      "source": [
        "**Choosing Prediction Column**"
      ],
      "metadata": {
        "id": "HdoDXGHlCUQE"
      }
    },
    {
      "cell_type": "code",
      "source": [
        "dataset = df[\"Open\"]\n",
        "dataset = pd.DataFrame(dataset)\n",
        "\n",
        "data = dataset.values\n",
        "\n",
        "data.shape"
      ],
      "metadata": {
        "id": "OSxZ7JjGxWzT",
        "outputId": "eadbabd0-138c-44fb-a9b9-ec3a87c2143a",
        "execution": {
          "iopub.status.busy": "2022-09-23T14:22:35.341307Z",
          "iopub.execute_input": "2022-09-23T14:22:35.341824Z",
          "iopub.status.idle": "2022-09-23T14:22:35.350962Z",
          "shell.execute_reply.started": "2022-09-23T14:22:35.341775Z",
          "shell.execute_reply": "2022-09-23T14:22:35.349591Z"
        },
        "trusted": true,
        "colab": {
          "base_uri": "https://localhost:8080/"
        }
      },
      "execution_count": 10,
      "outputs": [
        {
          "output_type": "execute_result",
          "data": {
            "text/plain": [
              "(1692, 1)"
            ]
          },
          "metadata": {},
          "execution_count": 10
        }
      ]
    },
    {
      "cell_type": "markdown",
      "source": [
        "**Normalizing Data**"
      ],
      "metadata": {
        "id": "L02E_1ALCPMC"
      }
    },
    {
      "cell_type": "code",
      "source": [
        "scaler = MinMaxScaler(feature_range=(0,1))\n",
        "scaled_data = scaler.fit_transform(data)"
      ],
      "metadata": {
        "id": "TFzVLwihxW0_",
        "execution": {
          "iopub.status.busy": "2022-09-23T14:22:35.355925Z",
          "iopub.execute_input": "2022-09-23T14:22:35.356290Z",
          "iopub.status.idle": "2022-09-23T14:22:35.362929Z",
          "shell.execute_reply.started": "2022-09-23T14:22:35.356259Z",
          "shell.execute_reply": "2022-09-23T14:22:35.361670Z"
        },
        "trusted": true
      },
      "execution_count": 11,
      "outputs": []
    },
    {
      "cell_type": "markdown",
      "source": [
        "**Splitting the Data**"
      ],
      "metadata": {
        "id": "iI9D00ViCSkS"
      }
    },
    {
      "cell_type": "code",
      "source": [
        "# 75% to Train , 25% to Test\n",
        "train_size = int(len(data)*.75)\n",
        "test_size = len(data) - train_size\n",
        "\n",
        "print(\"Train Size :\",train_size,\"Test Size :\",test_size)\n",
        "\n",
        "train_data = scaled_data[ :train_size , 0:1 ]\n",
        "test_data = scaled_data[ train_size-60: , 0:1 ]"
      ],
      "metadata": {
        "id": "B5z1-nxRkC_f",
        "outputId": "a9d56145-ba19-4e1c-9c3a-1b2f52e07ed8",
        "execution": {
          "iopub.status.busy": "2022-09-23T14:22:35.364162Z",
          "iopub.execute_input": "2022-09-23T14:22:35.364499Z",
          "iopub.status.idle": "2022-09-23T14:22:35.378198Z",
          "shell.execute_reply.started": "2022-09-23T14:22:35.364459Z",
          "shell.execute_reply": "2022-09-23T14:22:35.376559Z"
        },
        "trusted": true,
        "colab": {
          "base_uri": "https://localhost:8080/"
        }
      },
      "execution_count": 12,
      "outputs": [
        {
          "output_type": "stream",
          "name": "stdout",
          "text": [
            "Train Size : 1269 Test Size : 423\n"
          ]
        }
      ]
    },
    {
      "cell_type": "code",
      "source": [
        "train_data.shape,test_data.shape"
      ],
      "metadata": {
        "id": "CmGkjYw2wIDH",
        "outputId": "965e251b-e169-4347-9df2-872dc5119d7a",
        "execution": {
          "iopub.status.busy": "2022-09-23T14:22:35.380073Z",
          "iopub.execute_input": "2022-09-23T14:22:35.380689Z",
          "iopub.status.idle": "2022-09-23T14:22:35.394792Z",
          "shell.execute_reply.started": "2022-09-23T14:22:35.380643Z",
          "shell.execute_reply": "2022-09-23T14:22:35.393149Z"
        },
        "trusted": true,
        "colab": {
          "base_uri": "https://localhost:8080/"
        }
      },
      "execution_count": 13,
      "outputs": [
        {
          "output_type": "execute_result",
          "data": {
            "text/plain": [
              "((1269, 1), (483, 1))"
            ]
          },
          "metadata": {},
          "execution_count": 13
        }
      ]
    },
    {
      "cell_type": "markdown",
      "source": [
        "# **Creating training set**"
      ],
      "metadata": {
        "id": "HJRbEVJvCBvr"
      }
    },
    {
      "cell_type": "code",
      "source": [
        "# Creating a Training set with 60 time-steps and 1 output\n",
        "x_train = []\n",
        "y_train = []\n",
        "\n",
        "for i in range(60, len(train_data)):\n",
        "    x_train.append(train_data[i-60:i, 0])\n",
        "    y_train.append(train_data[i, 0])"
      ],
      "metadata": {
        "id": "UxTTExdfgPH-",
        "execution": {
          "iopub.status.busy": "2022-09-23T14:22:35.396814Z",
          "iopub.execute_input": "2022-09-23T14:22:35.397501Z",
          "iopub.status.idle": "2022-09-23T14:22:35.405774Z",
          "shell.execute_reply.started": "2022-09-23T14:22:35.397431Z",
          "shell.execute_reply": "2022-09-23T14:22:35.404333Z"
        },
        "trusted": true
      },
      "execution_count": 14,
      "outputs": []
    },
    {
      "cell_type": "code",
      "source": [
        "# Convert to numpy array\n",
        "x_train, y_train = np.array(x_train), np.array(y_train)"
      ],
      "metadata": {
        "id": "9X6ho8ixEVhC",
        "execution": {
          "iopub.status.busy": "2022-09-23T14:22:35.407585Z",
          "iopub.execute_input": "2022-09-23T14:22:35.408941Z",
          "iopub.status.idle": "2022-09-23T14:22:35.416419Z",
          "shell.execute_reply.started": "2022-09-23T14:22:35.408894Z",
          "shell.execute_reply": "2022-09-23T14:22:35.415114Z"
        },
        "trusted": true
      },
      "execution_count": 15,
      "outputs": []
    },
    {
      "cell_type": "code",
      "source": [
        "# Reshaping the input\n",
        "x_train = np.reshape(x_train, (x_train.shape[0], x_train.shape[1], 1))"
      ],
      "metadata": {
        "id": "2rYJokgXEWlz",
        "execution": {
          "iopub.status.busy": "2022-09-23T14:22:35.417879Z",
          "iopub.execute_input": "2022-09-23T14:22:35.418572Z",
          "iopub.status.idle": "2022-09-23T14:22:35.426384Z",
          "shell.execute_reply.started": "2022-09-23T14:22:35.418532Z",
          "shell.execute_reply": "2022-09-23T14:22:35.425521Z"
        },
        "trusted": true
      },
      "execution_count": 16,
      "outputs": []
    },
    {
      "cell_type": "code",
      "source": [
        "x_train.shape , y_train.shape"
      ],
      "metadata": {
        "id": "Ylu_E1TxgPJ1",
        "outputId": "1cb5de44-5d9a-4274-aa31-f2698133fd04",
        "execution": {
          "iopub.status.busy": "2022-09-23T14:22:35.427824Z",
          "iopub.execute_input": "2022-09-23T14:22:35.428510Z",
          "iopub.status.idle": "2022-09-23T14:22:35.440496Z",
          "shell.execute_reply.started": "2022-09-23T14:22:35.428468Z",
          "shell.execute_reply": "2022-09-23T14:22:35.439245Z"
        },
        "trusted": true,
        "colab": {
          "base_uri": "https://localhost:8080/"
        }
      },
      "execution_count": 17,
      "outputs": [
        {
          "output_type": "execute_result",
          "data": {
            "text/plain": [
              "((1209, 60, 1), (1209,))"
            ]
          },
          "metadata": {},
          "execution_count": 17
        }
      ]
    },
    {
      "cell_type": "markdown",
      "source": [
        "# **Building LSTM Model**"
      ],
      "metadata": {
        "id": "D0xCiM9bBzpe"
      }
    },
    {
      "cell_type": "code",
      "source": [
        "\n",
        "model =Sequential()\n",
        "model.add(LSTM(50,return_sequences=True, input_shape=(x_train.shape[1],1)))\n",
        "model.add(LSTM(64, return_sequences= False))\n",
        "model.add(Dense(32))\n",
        "model.add(Dense(16))\n",
        "model.add(Dense(1))\n",
        "\n",
        "\n",
        "model.compile(optimizer = 'adam', loss = 'mse' , metrics=[\"mean_squared_error\"])"
      ],
      "metadata": {
        "id": "74F4KmuChWKM",
        "execution": {
          "iopub.status.busy": "2022-09-23T14:22:35.443316Z",
          "iopub.execute_input": "2022-09-23T14:22:35.444148Z",
          "iopub.status.idle": "2022-09-23T14:22:36.155662Z",
          "shell.execute_reply.started": "2022-09-23T14:22:35.444103Z",
          "shell.execute_reply": "2022-09-23T14:22:36.154750Z"
        },
        "trusted": true
      },
      "execution_count": 20,
      "outputs": []
    },
    {
      "cell_type": "code",
      "source": [
        "model.summary()"
      ],
      "metadata": {
        "id": "_s-_bbQchWgF",
        "outputId": "33d5ad33-cfa4-43e1-9475-3de792112606",
        "execution": {
          "iopub.status.busy": "2022-09-23T14:22:36.156738Z",
          "iopub.execute_input": "2022-09-23T14:22:36.160868Z",
          "iopub.status.idle": "2022-09-23T14:22:36.168246Z",
          "shell.execute_reply.started": "2022-09-23T14:22:36.160822Z",
          "shell.execute_reply": "2022-09-23T14:22:36.166945Z"
        },
        "trusted": true,
        "colab": {
          "base_uri": "https://localhost:8080/",
          "height": 289
        }
      },
      "execution_count": 21,
      "outputs": [
        {
          "output_type": "display_data",
          "data": {
            "text/plain": [
              "\u001b[1mModel: \"sequential_1\"\u001b[0m\n"
            ],
            "text/html": [
              "<pre style=\"white-space:pre;overflow-x:auto;line-height:normal;font-family:Menlo,'DejaVu Sans Mono',consolas,'Courier New',monospace\"><span style=\"font-weight: bold\">Model: \"sequential_1\"</span>\n",
              "</pre>\n"
            ]
          },
          "metadata": {}
        },
        {
          "output_type": "display_data",
          "data": {
            "text/plain": [
              "┏━━━━━━━━━━━━━━━━━━━━━━━━━━━━━━━━━━━━━━┳━━━━━━━━━━━━━━━━━━━━━━━━━━━━━┳━━━━━━━━━━━━━━━━━┓\n",
              "┃\u001b[1m \u001b[0m\u001b[1mLayer (type)                        \u001b[0m\u001b[1m \u001b[0m┃\u001b[1m \u001b[0m\u001b[1mOutput Shape               \u001b[0m\u001b[1m \u001b[0m┃\u001b[1m \u001b[0m\u001b[1m        Param #\u001b[0m\u001b[1m \u001b[0m┃\n",
              "┡━━━━━━━━━━━━━━━━━━━━━━━━━━━━━━━━━━━━━━╇━━━━━━━━━━━━━━━━━━━━━━━━━━━━━╇━━━━━━━━━━━━━━━━━┩\n",
              "│ lstm_2 (\u001b[38;5;33mLSTM\u001b[0m)                        │ (\u001b[38;5;45mNone\u001b[0m, \u001b[38;5;34m60\u001b[0m, \u001b[38;5;34m50\u001b[0m)              │          \u001b[38;5;34m10,400\u001b[0m │\n",
              "├──────────────────────────────────────┼─────────────────────────────┼─────────────────┤\n",
              "│ lstm_3 (\u001b[38;5;33mLSTM\u001b[0m)                        │ (\u001b[38;5;45mNone\u001b[0m, \u001b[38;5;34m64\u001b[0m)                  │          \u001b[38;5;34m29,440\u001b[0m │\n",
              "├──────────────────────────────────────┼─────────────────────────────┼─────────────────┤\n",
              "│ dense_3 (\u001b[38;5;33mDense\u001b[0m)                      │ (\u001b[38;5;45mNone\u001b[0m, \u001b[38;5;34m32\u001b[0m)                  │           \u001b[38;5;34m2,080\u001b[0m │\n",
              "├──────────────────────────────────────┼─────────────────────────────┼─────────────────┤\n",
              "│ dense_4 (\u001b[38;5;33mDense\u001b[0m)                      │ (\u001b[38;5;45mNone\u001b[0m, \u001b[38;5;34m16\u001b[0m)                  │             \u001b[38;5;34m528\u001b[0m │\n",
              "├──────────────────────────────────────┼─────────────────────────────┼─────────────────┤\n",
              "│ dense_5 (\u001b[38;5;33mDense\u001b[0m)                      │ (\u001b[38;5;45mNone\u001b[0m, \u001b[38;5;34m1\u001b[0m)                   │              \u001b[38;5;34m17\u001b[0m │\n",
              "└──────────────────────────────────────┴─────────────────────────────┴─────────────────┘\n"
            ],
            "text/html": [
              "<pre style=\"white-space:pre;overflow-x:auto;line-height:normal;font-family:Menlo,'DejaVu Sans Mono',consolas,'Courier New',monospace\">┏━━━━━━━━━━━━━━━━━━━━━━━━━━━━━━━━━━━━━━┳━━━━━━━━━━━━━━━━━━━━━━━━━━━━━┳━━━━━━━━━━━━━━━━━┓\n",
              "┃<span style=\"font-weight: bold\"> Layer (type)                         </span>┃<span style=\"font-weight: bold\"> Output Shape                </span>┃<span style=\"font-weight: bold\">         Param # </span>┃\n",
              "┡━━━━━━━━━━━━━━━━━━━━━━━━━━━━━━━━━━━━━━╇━━━━━━━━━━━━━━━━━━━━━━━━━━━━━╇━━━━━━━━━━━━━━━━━┩\n",
              "│ lstm_2 (<span style=\"color: #0087ff; text-decoration-color: #0087ff\">LSTM</span>)                        │ (<span style=\"color: #00d7ff; text-decoration-color: #00d7ff\">None</span>, <span style=\"color: #00af00; text-decoration-color: #00af00\">60</span>, <span style=\"color: #00af00; text-decoration-color: #00af00\">50</span>)              │          <span style=\"color: #00af00; text-decoration-color: #00af00\">10,400</span> │\n",
              "├──────────────────────────────────────┼─────────────────────────────┼─────────────────┤\n",
              "│ lstm_3 (<span style=\"color: #0087ff; text-decoration-color: #0087ff\">LSTM</span>)                        │ (<span style=\"color: #00d7ff; text-decoration-color: #00d7ff\">None</span>, <span style=\"color: #00af00; text-decoration-color: #00af00\">64</span>)                  │          <span style=\"color: #00af00; text-decoration-color: #00af00\">29,440</span> │\n",
              "├──────────────────────────────────────┼─────────────────────────────┼─────────────────┤\n",
              "│ dense_3 (<span style=\"color: #0087ff; text-decoration-color: #0087ff\">Dense</span>)                      │ (<span style=\"color: #00d7ff; text-decoration-color: #00d7ff\">None</span>, <span style=\"color: #00af00; text-decoration-color: #00af00\">32</span>)                  │           <span style=\"color: #00af00; text-decoration-color: #00af00\">2,080</span> │\n",
              "├──────────────────────────────────────┼─────────────────────────────┼─────────────────┤\n",
              "│ dense_4 (<span style=\"color: #0087ff; text-decoration-color: #0087ff\">Dense</span>)                      │ (<span style=\"color: #00d7ff; text-decoration-color: #00d7ff\">None</span>, <span style=\"color: #00af00; text-decoration-color: #00af00\">16</span>)                  │             <span style=\"color: #00af00; text-decoration-color: #00af00\">528</span> │\n",
              "├──────────────────────────────────────┼─────────────────────────────┼─────────────────┤\n",
              "│ dense_5 (<span style=\"color: #0087ff; text-decoration-color: #0087ff\">Dense</span>)                      │ (<span style=\"color: #00d7ff; text-decoration-color: #00d7ff\">None</span>, <span style=\"color: #00af00; text-decoration-color: #00af00\">1</span>)                   │              <span style=\"color: #00af00; text-decoration-color: #00af00\">17</span> │\n",
              "└──────────────────────────────────────┴─────────────────────────────┴─────────────────┘\n",
              "</pre>\n"
            ]
          },
          "metadata": {}
        },
        {
          "output_type": "display_data",
          "data": {
            "text/plain": [
              "\u001b[1m Total params: \u001b[0m\u001b[38;5;34m42,465\u001b[0m (165.88 KB)\n"
            ],
            "text/html": [
              "<pre style=\"white-space:pre;overflow-x:auto;line-height:normal;font-family:Menlo,'DejaVu Sans Mono',consolas,'Courier New',monospace\"><span style=\"font-weight: bold\"> Total params: </span><span style=\"color: #00af00; text-decoration-color: #00af00\">42,465</span> (165.88 KB)\n",
              "</pre>\n"
            ]
          },
          "metadata": {}
        },
        {
          "output_type": "display_data",
          "data": {
            "text/plain": [
              "\u001b[1m Trainable params: \u001b[0m\u001b[38;5;34m42,465\u001b[0m (165.88 KB)\n"
            ],
            "text/html": [
              "<pre style=\"white-space:pre;overflow-x:auto;line-height:normal;font-family:Menlo,'DejaVu Sans Mono',consolas,'Courier New',monospace\"><span style=\"font-weight: bold\"> Trainable params: </span><span style=\"color: #00af00; text-decoration-color: #00af00\">42,465</span> (165.88 KB)\n",
              "</pre>\n"
            ]
          },
          "metadata": {}
        },
        {
          "output_type": "display_data",
          "data": {
            "text/plain": [
              "\u001b[1m Non-trainable params: \u001b[0m\u001b[38;5;34m0\u001b[0m (0.00 B)\n"
            ],
            "text/html": [
              "<pre style=\"white-space:pre;overflow-x:auto;line-height:normal;font-family:Menlo,'DejaVu Sans Mono',consolas,'Courier New',monospace\"><span style=\"font-weight: bold\"> Non-trainable params: </span><span style=\"color: #00af00; text-decoration-color: #00af00\">0</span> (0.00 B)\n",
              "</pre>\n"
            ]
          },
          "metadata": {}
        }
      ]
    },
    {
      "cell_type": "code",
      "source": [
        "# Fitting the LSTM to the Training set\n",
        "callbacks = [EarlyStopping(monitor='loss', patience=10 , restore_best_weights=True)]\n",
        "history = model.fit(x_train, y_train, epochs = 100, batch_size = 32 , callbacks = callbacks )"
      ],
      "metadata": {
        "id": "h7se2HrmhWid",
        "outputId": "ba28b372-2ede-4b42-e3d4-3dca61ca1382",
        "execution": {
          "iopub.status.busy": "2022-09-23T14:22:36.169754Z",
          "iopub.execute_input": "2022-09-23T14:22:36.170164Z",
          "iopub.status.idle": "2022-09-23T14:26:59.500381Z",
          "shell.execute_reply.started": "2022-09-23T14:22:36.170133Z",
          "shell.execute_reply": "2022-09-23T14:26:59.499250Z"
        },
        "trusted": true,
        "colab": {
          "base_uri": "https://localhost:8080/"
        }
      },
      "execution_count": 22,
      "outputs": [
        {
          "output_type": "stream",
          "name": "stdout",
          "text": [
            "Epoch 1/100\n",
            "\u001b[1m38/38\u001b[0m \u001b[32m━━━━━━━━━━━━━━━━━━━━\u001b[0m\u001b[37m\u001b[0m \u001b[1m8s\u001b[0m 74ms/step - loss: 0.0760 - mean_squared_error: 0.0760\n",
            "Epoch 2/100\n",
            "\u001b[1m38/38\u001b[0m \u001b[32m━━━━━━━━━━━━━━━━━━━━\u001b[0m\u001b[37m\u001b[0m \u001b[1m4s\u001b[0m 52ms/step - loss: 0.0018 - mean_squared_error: 0.0018\n",
            "Epoch 3/100\n",
            "\u001b[1m38/38\u001b[0m \u001b[32m━━━━━━━━━━━━━━━━━━━━\u001b[0m\u001b[37m\u001b[0m \u001b[1m3s\u001b[0m 58ms/step - loss: 0.0012 - mean_squared_error: 0.0012\n",
            "Epoch 4/100\n",
            "\u001b[1m38/38\u001b[0m \u001b[32m━━━━━━━━━━━━━━━━━━━━\u001b[0m\u001b[37m\u001b[0m \u001b[1m5s\u001b[0m 130ms/step - loss: 0.0012 - mean_squared_error: 0.0012\n",
            "Epoch 5/100\n",
            "\u001b[1m38/38\u001b[0m \u001b[32m━━━━━━━━━━━━━━━━━━━━\u001b[0m\u001b[37m\u001b[0m \u001b[1m3s\u001b[0m 62ms/step - loss: 0.0010 - mean_squared_error: 0.0010\n",
            "Epoch 6/100\n",
            "\u001b[1m38/38\u001b[0m \u001b[32m━━━━━━━━━━━━━━━━━━━━\u001b[0m\u001b[37m\u001b[0m \u001b[1m2s\u001b[0m 56ms/step - loss: 9.7398e-04 - mean_squared_error: 9.7398e-04\n",
            "Epoch 7/100\n",
            "\u001b[1m38/38\u001b[0m \u001b[32m━━━━━━━━━━━━━━━━━━━━\u001b[0m\u001b[37m\u001b[0m \u001b[1m3s\u001b[0m 56ms/step - loss: 9.4638e-04 - mean_squared_error: 9.4638e-04\n",
            "Epoch 8/100\n",
            "\u001b[1m38/38\u001b[0m \u001b[32m━━━━━━━━━━━━━━━━━━━━\u001b[0m\u001b[37m\u001b[0m \u001b[1m2s\u001b[0m 60ms/step - loss: 9.7002e-04 - mean_squared_error: 9.7002e-04\n",
            "Epoch 9/100\n",
            "\u001b[1m38/38\u001b[0m \u001b[32m━━━━━━━━━━━━━━━━━━━━\u001b[0m\u001b[37m\u001b[0m \u001b[1m3s\u001b[0m 76ms/step - loss: 8.4325e-04 - mean_squared_error: 8.4325e-04\n",
            "Epoch 10/100\n",
            "\u001b[1m38/38\u001b[0m \u001b[32m━━━━━━━━━━━━━━━━━━━━\u001b[0m\u001b[37m\u001b[0m \u001b[1m3s\u001b[0m 78ms/step - loss: 8.8143e-04 - mean_squared_error: 8.8143e-04\n",
            "Epoch 11/100\n",
            "\u001b[1m38/38\u001b[0m \u001b[32m━━━━━━━━━━━━━━━━━━━━\u001b[0m\u001b[37m\u001b[0m \u001b[1m2s\u001b[0m 55ms/step - loss: 0.0011 - mean_squared_error: 0.0011\n",
            "Epoch 12/100\n",
            "\u001b[1m38/38\u001b[0m \u001b[32m━━━━━━━━━━━━━━━━━━━━\u001b[0m\u001b[37m\u001b[0m \u001b[1m3s\u001b[0m 58ms/step - loss: 9.0084e-04 - mean_squared_error: 9.0084e-04\n",
            "Epoch 13/100\n",
            "\u001b[1m38/38\u001b[0m \u001b[32m━━━━━━━━━━━━━━━━━━━━\u001b[0m\u001b[37m\u001b[0m \u001b[1m2s\u001b[0m 53ms/step - loss: 7.2254e-04 - mean_squared_error: 7.2254e-04\n",
            "Epoch 14/100\n",
            "\u001b[1m38/38\u001b[0m \u001b[32m━━━━━━━━━━━━━━━━━━━━\u001b[0m\u001b[37m\u001b[0m \u001b[1m2s\u001b[0m 59ms/step - loss: 8.4095e-04 - mean_squared_error: 8.4095e-04\n",
            "Epoch 15/100\n",
            "\u001b[1m38/38\u001b[0m \u001b[32m━━━━━━━━━━━━━━━━━━━━\u001b[0m\u001b[37m\u001b[0m \u001b[1m4s\u001b[0m 95ms/step - loss: 8.5845e-04 - mean_squared_error: 8.5845e-04\n",
            "Epoch 16/100\n",
            "\u001b[1m38/38\u001b[0m \u001b[32m━━━━━━━━━━━━━━━━━━━━\u001b[0m\u001b[37m\u001b[0m \u001b[1m2s\u001b[0m 58ms/step - loss: 7.3876e-04 - mean_squared_error: 7.3876e-04\n",
            "Epoch 17/100\n",
            "\u001b[1m38/38\u001b[0m \u001b[32m━━━━━━━━━━━━━━━━━━━━\u001b[0m\u001b[37m\u001b[0m \u001b[1m2s\u001b[0m 57ms/step - loss: 7.8406e-04 - mean_squared_error: 7.8406e-04\n",
            "Epoch 18/100\n",
            "\u001b[1m38/38\u001b[0m \u001b[32m━━━━━━━━━━━━━━━━━━━━\u001b[0m\u001b[37m\u001b[0m \u001b[1m2s\u001b[0m 55ms/step - loss: 6.3171e-04 - mean_squared_error: 6.3171e-04\n",
            "Epoch 19/100\n",
            "\u001b[1m38/38\u001b[0m \u001b[32m━━━━━━━━━━━━━━━━━━━━\u001b[0m\u001b[37m\u001b[0m \u001b[1m3s\u001b[0m 59ms/step - loss: 6.5904e-04 - mean_squared_error: 6.5904e-04\n",
            "Epoch 20/100\n",
            "\u001b[1m38/38\u001b[0m \u001b[32m━━━━━━━━━━━━━━━━━━━━\u001b[0m\u001b[37m\u001b[0m \u001b[1m3s\u001b[0m 88ms/step - loss: 6.6549e-04 - mean_squared_error: 6.6549e-04\n",
            "Epoch 21/100\n",
            "\u001b[1m38/38\u001b[0m \u001b[32m━━━━━━━━━━━━━━━━━━━━\u001b[0m\u001b[37m\u001b[0m \u001b[1m4s\u001b[0m 64ms/step - loss: 5.8369e-04 - mean_squared_error: 5.8369e-04\n",
            "Epoch 22/100\n",
            "\u001b[1m38/38\u001b[0m \u001b[32m━━━━━━━━━━━━━━━━━━━━\u001b[0m\u001b[37m\u001b[0m \u001b[1m2s\u001b[0m 58ms/step - loss: 6.2404e-04 - mean_squared_error: 6.2404e-04\n",
            "Epoch 23/100\n",
            "\u001b[1m38/38\u001b[0m \u001b[32m━━━━━━━━━━━━━━━━━━━━\u001b[0m\u001b[37m\u001b[0m \u001b[1m2s\u001b[0m 58ms/step - loss: 7.2389e-04 - mean_squared_error: 7.2389e-04\n",
            "Epoch 24/100\n",
            "\u001b[1m38/38\u001b[0m \u001b[32m━━━━━━━━━━━━━━━━━━━━\u001b[0m\u001b[37m\u001b[0m \u001b[1m3s\u001b[0m 59ms/step - loss: 5.7573e-04 - mean_squared_error: 5.7573e-04\n",
            "Epoch 25/100\n",
            "\u001b[1m38/38\u001b[0m \u001b[32m━━━━━━━━━━━━━━━━━━━━\u001b[0m\u001b[37m\u001b[0m \u001b[1m4s\u001b[0m 94ms/step - loss: 6.5711e-04 - mean_squared_error: 6.5711e-04\n",
            "Epoch 26/100\n",
            "\u001b[1m38/38\u001b[0m \u001b[32m━━━━━━━━━━━━━━━━━━━━\u001b[0m\u001b[37m\u001b[0m \u001b[1m3s\u001b[0m 65ms/step - loss: 6.2517e-04 - mean_squared_error: 6.2517e-04\n",
            "Epoch 27/100\n",
            "\u001b[1m38/38\u001b[0m \u001b[32m━━━━━━━━━━━━━━━━━━━━\u001b[0m\u001b[37m\u001b[0m \u001b[1m4s\u001b[0m 92ms/step - loss: 5.8104e-04 - mean_squared_error: 5.8104e-04\n",
            "Epoch 28/100\n",
            "\u001b[1m38/38\u001b[0m \u001b[32m━━━━━━━━━━━━━━━━━━━━\u001b[0m\u001b[37m\u001b[0m \u001b[1m2s\u001b[0m 56ms/step - loss: 5.7351e-04 - mean_squared_error: 5.7351e-04\n",
            "Epoch 29/100\n",
            "\u001b[1m38/38\u001b[0m \u001b[32m━━━━━━━━━━━━━━━━━━━━\u001b[0m\u001b[37m\u001b[0m \u001b[1m3s\u001b[0m 62ms/step - loss: 6.8832e-04 - mean_squared_error: 6.8832e-04\n",
            "Epoch 30/100\n",
            "\u001b[1m38/38\u001b[0m \u001b[32m━━━━━━━━━━━━━━━━━━━━\u001b[0m\u001b[37m\u001b[0m \u001b[1m4s\u001b[0m 90ms/step - loss: 5.9399e-04 - mean_squared_error: 5.9399e-04\n",
            "Epoch 31/100\n",
            "\u001b[1m38/38\u001b[0m \u001b[32m━━━━━━━━━━━━━━━━━━━━\u001b[0m\u001b[37m\u001b[0m \u001b[1m4s\u001b[0m 65ms/step - loss: 4.8343e-04 - mean_squared_error: 4.8343e-04\n",
            "Epoch 32/100\n",
            "\u001b[1m38/38\u001b[0m \u001b[32m━━━━━━━━━━━━━━━━━━━━\u001b[0m\u001b[37m\u001b[0m \u001b[1m2s\u001b[0m 58ms/step - loss: 5.4060e-04 - mean_squared_error: 5.4060e-04\n",
            "Epoch 33/100\n",
            "\u001b[1m38/38\u001b[0m \u001b[32m━━━━━━━━━━━━━━━━━━━━\u001b[0m\u001b[37m\u001b[0m \u001b[1m2s\u001b[0m 57ms/step - loss: 5.5317e-04 - mean_squared_error: 5.5317e-04\n",
            "Epoch 34/100\n",
            "\u001b[1m38/38\u001b[0m \u001b[32m━━━━━━━━━━━━━━━━━━━━\u001b[0m\u001b[37m\u001b[0m \u001b[1m3s\u001b[0m 81ms/step - loss: 4.6863e-04 - mean_squared_error: 4.6863e-04\n",
            "Epoch 35/100\n",
            "\u001b[1m38/38\u001b[0m \u001b[32m━━━━━━━━━━━━━━━━━━━━\u001b[0m\u001b[37m\u001b[0m \u001b[1m4s\u001b[0m 56ms/step - loss: 5.8655e-04 - mean_squared_error: 5.8655e-04\n",
            "Epoch 36/100\n",
            "\u001b[1m38/38\u001b[0m \u001b[32m━━━━━━━━━━━━━━━━━━━━\u001b[0m\u001b[37m\u001b[0m \u001b[1m2s\u001b[0m 52ms/step - loss: 5.3974e-04 - mean_squared_error: 5.3974e-04\n",
            "Epoch 37/100\n",
            "\u001b[1m38/38\u001b[0m \u001b[32m━━━━━━━━━━━━━━━━━━━━\u001b[0m\u001b[37m\u001b[0m \u001b[1m3s\u001b[0m 55ms/step - loss: 4.6559e-04 - mean_squared_error: 4.6559e-04\n",
            "Epoch 38/100\n",
            "\u001b[1m38/38\u001b[0m \u001b[32m━━━━━━━━━━━━━━━━━━━━\u001b[0m\u001b[37m\u001b[0m \u001b[1m3s\u001b[0m 73ms/step - loss: 5.3363e-04 - mean_squared_error: 5.3363e-04\n",
            "Epoch 39/100\n",
            "\u001b[1m38/38\u001b[0m \u001b[32m━━━━━━━━━━━━━━━━━━━━\u001b[0m\u001b[37m\u001b[0m \u001b[1m3s\u001b[0m 82ms/step - loss: 5.0560e-04 - mean_squared_error: 5.0560e-04\n",
            "Epoch 40/100\n",
            "\u001b[1m38/38\u001b[0m \u001b[32m━━━━━━━━━━━━━━━━━━━━\u001b[0m\u001b[37m\u001b[0m \u001b[1m4s\u001b[0m 53ms/step - loss: 4.7706e-04 - mean_squared_error: 4.7706e-04\n",
            "Epoch 41/100\n",
            "\u001b[1m38/38\u001b[0m \u001b[32m━━━━━━━━━━━━━━━━━━━━\u001b[0m\u001b[37m\u001b[0m \u001b[1m3s\u001b[0m 58ms/step - loss: 4.1500e-04 - mean_squared_error: 4.1500e-04\n",
            "Epoch 42/100\n",
            "\u001b[1m38/38\u001b[0m \u001b[32m━━━━━━━━━━━━━━━━━━━━\u001b[0m\u001b[37m\u001b[0m \u001b[1m2s\u001b[0m 59ms/step - loss: 3.9545e-04 - mean_squared_error: 3.9545e-04\n",
            "Epoch 43/100\n",
            "\u001b[1m38/38\u001b[0m \u001b[32m━━━━━━━━━━━━━━━━━━━━\u001b[0m\u001b[37m\u001b[0m \u001b[1m3s\u001b[0m 91ms/step - loss: 6.4881e-04 - mean_squared_error: 6.4881e-04\n",
            "Epoch 44/100\n",
            "\u001b[1m38/38\u001b[0m \u001b[32m━━━━━━━━━━━━━━━━━━━━\u001b[0m\u001b[37m\u001b[0m \u001b[1m3s\u001b[0m 65ms/step - loss: 4.5643e-04 - mean_squared_error: 4.5643e-04\n",
            "Epoch 45/100\n",
            "\u001b[1m38/38\u001b[0m \u001b[32m━━━━━━━━━━━━━━━━━━━━\u001b[0m\u001b[37m\u001b[0m \u001b[1m2s\u001b[0m 57ms/step - loss: 5.1273e-04 - mean_squared_error: 5.1273e-04\n",
            "Epoch 46/100\n",
            "\u001b[1m38/38\u001b[0m \u001b[32m━━━━━━━━━━━━━━━━━━━━\u001b[0m\u001b[37m\u001b[0m \u001b[1m2s\u001b[0m 58ms/step - loss: 4.0804e-04 - mean_squared_error: 4.0804e-04\n",
            "Epoch 47/100\n",
            "\u001b[1m38/38\u001b[0m \u001b[32m━━━━━━━━━━━━━━━━━━━━\u001b[0m\u001b[37m\u001b[0m \u001b[1m2s\u001b[0m 59ms/step - loss: 4.1739e-04 - mean_squared_error: 4.1739e-04\n",
            "Epoch 48/100\n",
            "\u001b[1m38/38\u001b[0m \u001b[32m━━━━━━━━━━━━━━━━━━━━\u001b[0m\u001b[37m\u001b[0m \u001b[1m3s\u001b[0m 72ms/step - loss: 3.8185e-04 - mean_squared_error: 3.8185e-04\n",
            "Epoch 49/100\n",
            "\u001b[1m38/38\u001b[0m \u001b[32m━━━━━━━━━━━━━━━━━━━━\u001b[0m\u001b[37m\u001b[0m \u001b[1m4s\u001b[0m 55ms/step - loss: 3.3222e-04 - mean_squared_error: 3.3222e-04\n",
            "Epoch 50/100\n",
            "\u001b[1m38/38\u001b[0m \u001b[32m━━━━━━━━━━━━━━━━━━━━\u001b[0m\u001b[37m\u001b[0m \u001b[1m3s\u001b[0m 57ms/step - loss: 4.6009e-04 - mean_squared_error: 4.6009e-04\n",
            "Epoch 51/100\n",
            "\u001b[1m38/38\u001b[0m \u001b[32m━━━━━━━━━━━━━━━━━━━━\u001b[0m\u001b[37m\u001b[0m \u001b[1m3s\u001b[0m 57ms/step - loss: 4.6732e-04 - mean_squared_error: 4.6732e-04\n",
            "Epoch 52/100\n",
            "\u001b[1m38/38\u001b[0m \u001b[32m━━━━━━━━━━━━━━━━━━━━\u001b[0m\u001b[37m\u001b[0m \u001b[1m3s\u001b[0m 65ms/step - loss: 3.4067e-04 - mean_squared_error: 3.4067e-04\n",
            "Epoch 53/100\n",
            "\u001b[1m38/38\u001b[0m \u001b[32m━━━━━━━━━━━━━━━━━━━━\u001b[0m\u001b[37m\u001b[0m \u001b[1m3s\u001b[0m 83ms/step - loss: 4.1244e-04 - mean_squared_error: 4.1244e-04\n",
            "Epoch 54/100\n",
            "\u001b[1m38/38\u001b[0m \u001b[32m━━━━━━━━━━━━━━━━━━━━\u001b[0m\u001b[37m\u001b[0m \u001b[1m4s\u001b[0m 56ms/step - loss: 4.3867e-04 - mean_squared_error: 4.3867e-04\n",
            "Epoch 55/100\n",
            "\u001b[1m38/38\u001b[0m \u001b[32m━━━━━━━━━━━━━━━━━━━━\u001b[0m\u001b[37m\u001b[0m \u001b[1m2s\u001b[0m 55ms/step - loss: 4.1226e-04 - mean_squared_error: 4.1226e-04\n",
            "Epoch 56/100\n",
            "\u001b[1m38/38\u001b[0m \u001b[32m━━━━━━━━━━━━━━━━━━━━\u001b[0m\u001b[37m\u001b[0m \u001b[1m2s\u001b[0m 56ms/step - loss: 3.4656e-04 - mean_squared_error: 3.4656e-04\n",
            "Epoch 57/100\n",
            "\u001b[1m38/38\u001b[0m \u001b[32m━━━━━━━━━━━━━━━━━━━━\u001b[0m\u001b[37m\u001b[0m \u001b[1m4s\u001b[0m 84ms/step - loss: 3.4162e-04 - mean_squared_error: 3.4162e-04\n",
            "Epoch 58/100\n",
            "\u001b[1m38/38\u001b[0m \u001b[32m━━━━━━━━━━━━━━━━━━━━\u001b[0m\u001b[37m\u001b[0m \u001b[1m3s\u001b[0m 72ms/step - loss: 5.6466e-04 - mean_squared_error: 5.6466e-04\n",
            "Epoch 59/100\n",
            "\u001b[1m38/38\u001b[0m \u001b[32m━━━━━━━━━━━━━━━━━━━━\u001b[0m\u001b[37m\u001b[0m \u001b[1m5s\u001b[0m 57ms/step - loss: 5.4690e-04 - mean_squared_error: 5.4690e-04\n",
            "Epoch 60/100\n",
            "\u001b[1m38/38\u001b[0m \u001b[32m━━━━━━━━━━━━━━━━━━━━\u001b[0m\u001b[37m\u001b[0m \u001b[1m3s\u001b[0m 57ms/step - loss: 4.1834e-04 - mean_squared_error: 4.1834e-04\n",
            "Epoch 61/100\n",
            "\u001b[1m38/38\u001b[0m \u001b[32m━━━━━━━━━━━━━━━━━━━━\u001b[0m\u001b[37m\u001b[0m \u001b[1m2s\u001b[0m 63ms/step - loss: 3.8807e-04 - mean_squared_error: 3.8807e-04\n",
            "Epoch 62/100\n",
            "\u001b[1m38/38\u001b[0m \u001b[32m━━━━━━━━━━━━━━━━━━━━\u001b[0m\u001b[37m\u001b[0m \u001b[1m3s\u001b[0m 88ms/step - loss: 3.4800e-04 - mean_squared_error: 3.4800e-04\n",
            "Epoch 63/100\n",
            "\u001b[1m38/38\u001b[0m \u001b[32m━━━━━━━━━━━━━━━━━━━━\u001b[0m\u001b[37m\u001b[0m \u001b[1m2s\u001b[0m 59ms/step - loss: 3.6506e-04 - mean_squared_error: 3.6506e-04\n",
            "Epoch 64/100\n",
            "\u001b[1m38/38\u001b[0m \u001b[32m━━━━━━━━━━━━━━━━━━━━\u001b[0m\u001b[37m\u001b[0m \u001b[1m2s\u001b[0m 56ms/step - loss: 3.5590e-04 - mean_squared_error: 3.5590e-04\n",
            "Epoch 65/100\n",
            "\u001b[1m38/38\u001b[0m \u001b[32m━━━━━━━━━━━━━━━━━━━━\u001b[0m\u001b[37m\u001b[0m \u001b[1m2s\u001b[0m 55ms/step - loss: 3.6606e-04 - mean_squared_error: 3.6606e-04\n",
            "Epoch 66/100\n",
            "\u001b[1m38/38\u001b[0m \u001b[32m━━━━━━━━━━━━━━━━━━━━\u001b[0m\u001b[37m\u001b[0m \u001b[1m3s\u001b[0m 65ms/step - loss: 4.1269e-04 - mean_squared_error: 4.1269e-04\n",
            "Epoch 67/100\n",
            "\u001b[1m38/38\u001b[0m \u001b[32m━━━━━━━━━━━━━━━━━━━━\u001b[0m\u001b[37m\u001b[0m \u001b[1m4s\u001b[0m 112ms/step - loss: 3.3719e-04 - mean_squared_error: 3.3719e-04\n",
            "Epoch 68/100\n",
            "\u001b[1m38/38\u001b[0m \u001b[32m━━━━━━━━━━━━━━━━━━━━\u001b[0m\u001b[37m\u001b[0m \u001b[1m2s\u001b[0m 56ms/step - loss: 3.3277e-04 - mean_squared_error: 3.3277e-04\n",
            "Epoch 69/100\n",
            "\u001b[1m38/38\u001b[0m \u001b[32m━━━━━━━━━━━━━━━━━━━━\u001b[0m\u001b[37m\u001b[0m \u001b[1m2s\u001b[0m 54ms/step - loss: 2.8338e-04 - mean_squared_error: 2.8338e-04\n",
            "Epoch 70/100\n",
            "\u001b[1m38/38\u001b[0m \u001b[32m━━━━━━━━━━━━━━━━━━━━\u001b[0m\u001b[37m\u001b[0m \u001b[1m2s\u001b[0m 54ms/step - loss: 3.4085e-04 - mean_squared_error: 3.4085e-04\n",
            "Epoch 71/100\n",
            "\u001b[1m38/38\u001b[0m \u001b[32m━━━━━━━━━━━━━━━━━━━━\u001b[0m\u001b[37m\u001b[0m \u001b[1m3s\u001b[0m 53ms/step - loss: 3.5325e-04 - mean_squared_error: 3.5325e-04\n",
            "Epoch 72/100\n",
            "\u001b[1m38/38\u001b[0m \u001b[32m━━━━━━━━━━━━━━━━━━━━\u001b[0m\u001b[37m\u001b[0m \u001b[1m4s\u001b[0m 89ms/step - loss: 2.8902e-04 - mean_squared_error: 2.8902e-04\n",
            "Epoch 73/100\n",
            "\u001b[1m38/38\u001b[0m \u001b[32m━━━━━━━━━━━━━━━━━━━━\u001b[0m\u001b[37m\u001b[0m \u001b[1m4s\u001b[0m 57ms/step - loss: 3.1527e-04 - mean_squared_error: 3.1527e-04\n",
            "Epoch 74/100\n",
            "\u001b[1m38/38\u001b[0m \u001b[32m━━━━━━━━━━━━━━━━━━━━\u001b[0m\u001b[37m\u001b[0m \u001b[1m2s\u001b[0m 56ms/step - loss: 2.9461e-04 - mean_squared_error: 2.9461e-04\n",
            "Epoch 75/100\n",
            "\u001b[1m38/38\u001b[0m \u001b[32m━━━━━━━━━━━━━━━━━━━━\u001b[0m\u001b[37m\u001b[0m \u001b[1m3s\u001b[0m 58ms/step - loss: 3.2580e-04 - mean_squared_error: 3.2580e-04\n",
            "Epoch 76/100\n",
            "\u001b[1m38/38\u001b[0m \u001b[32m━━━━━━━━━━━━━━━━━━━━\u001b[0m\u001b[37m\u001b[0m \u001b[1m3s\u001b[0m 70ms/step - loss: 2.8931e-04 - mean_squared_error: 2.8931e-04\n",
            "Epoch 77/100\n",
            "\u001b[1m38/38\u001b[0m \u001b[32m━━━━━━━━━━━━━━━━━━━━\u001b[0m\u001b[37m\u001b[0m \u001b[1m3s\u001b[0m 91ms/step - loss: 4.0262e-04 - mean_squared_error: 4.0262e-04\n",
            "Epoch 78/100\n",
            "\u001b[1m38/38\u001b[0m \u001b[32m━━━━━━━━━━━━━━━━━━━━\u001b[0m\u001b[37m\u001b[0m \u001b[1m3s\u001b[0m 86ms/step - loss: 3.4746e-04 - mean_squared_error: 3.4746e-04\n",
            "Epoch 79/100\n",
            "\u001b[1m38/38\u001b[0m \u001b[32m━━━━━━━━━━━━━━━━━━━━\u001b[0m\u001b[37m\u001b[0m \u001b[1m4s\u001b[0m 54ms/step - loss: 3.0836e-04 - mean_squared_error: 3.0836e-04\n",
            "Epoch 80/100\n",
            "\u001b[1m38/38\u001b[0m \u001b[32m━━━━━━━━━━━━━━━━━━━━\u001b[0m\u001b[37m\u001b[0m \u001b[1m3s\u001b[0m 54ms/step - loss: 3.0498e-04 - mean_squared_error: 3.0498e-04\n",
            "Epoch 81/100\n",
            "\u001b[1m38/38\u001b[0m \u001b[32m━━━━━━━━━━━━━━━━━━━━\u001b[0m\u001b[37m\u001b[0m \u001b[1m4s\u001b[0m 93ms/step - loss: 3.4687e-04 - mean_squared_error: 3.4687e-04\n",
            "Epoch 82/100\n",
            "\u001b[1m38/38\u001b[0m \u001b[32m━━━━━━━━━━━━━━━━━━━━\u001b[0m\u001b[37m\u001b[0m \u001b[1m2s\u001b[0m 59ms/step - loss: 2.9392e-04 - mean_squared_error: 2.9392e-04\n",
            "Epoch 83/100\n",
            "\u001b[1m38/38\u001b[0m \u001b[32m━━━━━━━━━━━━━━━━━━━━\u001b[0m\u001b[37m\u001b[0m \u001b[1m2s\u001b[0m 61ms/step - loss: 2.5463e-04 - mean_squared_error: 2.5463e-04\n",
            "Epoch 84/100\n",
            "\u001b[1m38/38\u001b[0m \u001b[32m━━━━━━━━━━━━━━━━━━━━\u001b[0m\u001b[37m\u001b[0m \u001b[1m2s\u001b[0m 60ms/step - loss: 4.3272e-04 - mean_squared_error: 4.3272e-04\n",
            "Epoch 85/100\n",
            "\u001b[1m38/38\u001b[0m \u001b[32m━━━━━━━━━━━━━━━━━━━━\u001b[0m\u001b[37m\u001b[0m \u001b[1m2s\u001b[0m 59ms/step - loss: 3.7661e-04 - mean_squared_error: 3.7661e-04\n",
            "Epoch 86/100\n",
            "\u001b[1m38/38\u001b[0m \u001b[32m━━━━━━━━━━━━━━━━━━━━\u001b[0m\u001b[37m\u001b[0m \u001b[1m3s\u001b[0m 90ms/step - loss: 3.1185e-04 - mean_squared_error: 3.1185e-04\n",
            "Epoch 87/100\n",
            "\u001b[1m38/38\u001b[0m \u001b[32m━━━━━━━━━━━━━━━━━━━━\u001b[0m\u001b[37m\u001b[0m \u001b[1m3s\u001b[0m 67ms/step - loss: 2.8866e-04 - mean_squared_error: 2.8866e-04\n",
            "Epoch 88/100\n",
            "\u001b[1m38/38\u001b[0m \u001b[32m━━━━━━━━━━━━━━━━━━━━\u001b[0m\u001b[37m\u001b[0m \u001b[1m5s\u001b[0m 59ms/step - loss: 3.4974e-04 - mean_squared_error: 3.4974e-04\n",
            "Epoch 89/100\n",
            "\u001b[1m38/38\u001b[0m \u001b[32m━━━━━━━━━━━━━━━━━━━━\u001b[0m\u001b[37m\u001b[0m \u001b[1m2s\u001b[0m 57ms/step - loss: 3.9350e-04 - mean_squared_error: 3.9350e-04\n",
            "Epoch 90/100\n",
            "\u001b[1m38/38\u001b[0m \u001b[32m━━━━━━━━━━━━━━━━━━━━\u001b[0m\u001b[37m\u001b[0m \u001b[1m4s\u001b[0m 103ms/step - loss: 3.7010e-04 - mean_squared_error: 3.7010e-04\n",
            "Epoch 91/100\n",
            "\u001b[1m38/38\u001b[0m \u001b[32m━━━━━━━━━━━━━━━━━━━━\u001b[0m\u001b[37m\u001b[0m \u001b[1m4s\u001b[0m 60ms/step - loss: 3.0819e-04 - mean_squared_error: 3.0819e-04\n",
            "Epoch 92/100\n",
            "\u001b[1m38/38\u001b[0m \u001b[32m━━━━━━━━━━━━━━━━━━━━\u001b[0m\u001b[37m\u001b[0m \u001b[1m2s\u001b[0m 55ms/step - loss: 3.0313e-04 - mean_squared_error: 3.0313e-04\n",
            "Epoch 93/100\n",
            "\u001b[1m38/38\u001b[0m \u001b[32m━━━━━━━━━━━━━━━━━━━━\u001b[0m\u001b[37m\u001b[0m \u001b[1m2s\u001b[0m 61ms/step - loss: 2.6271e-04 - mean_squared_error: 2.6271e-04\n",
            "Epoch 94/100\n",
            "\u001b[1m38/38\u001b[0m \u001b[32m━━━━━━━━━━━━━━━━━━━━\u001b[0m\u001b[37m\u001b[0m \u001b[1m3s\u001b[0m 62ms/step - loss: 2.7339e-04 - mean_squared_error: 2.7339e-04\n",
            "Epoch 95/100\n",
            "\u001b[1m38/38\u001b[0m \u001b[32m━━━━━━━━━━━━━━━━━━━━\u001b[0m\u001b[37m\u001b[0m \u001b[1m4s\u001b[0m 96ms/step - loss: 3.0305e-04 - mean_squared_error: 3.0305e-04\n",
            "Epoch 96/100\n",
            "\u001b[1m38/38\u001b[0m \u001b[32m━━━━━━━━━━━━━━━━━━━━\u001b[0m\u001b[37m\u001b[0m \u001b[1m4s\u001b[0m 58ms/step - loss: 3.6861e-04 - mean_squared_error: 3.6861e-04\n",
            "Epoch 97/100\n",
            "\u001b[1m38/38\u001b[0m \u001b[32m━━━━━━━━━━━━━━━━━━━━\u001b[0m\u001b[37m\u001b[0m \u001b[1m3s\u001b[0m 61ms/step - loss: 4.4353e-04 - mean_squared_error: 4.4353e-04\n",
            "Epoch 98/100\n",
            "\u001b[1m38/38\u001b[0m \u001b[32m━━━━━━━━━━━━━━━━━━━━\u001b[0m\u001b[37m\u001b[0m \u001b[1m2s\u001b[0m 59ms/step - loss: 4.0398e-04 - mean_squared_error: 4.0398e-04\n",
            "Epoch 99/100\n",
            "\u001b[1m38/38\u001b[0m \u001b[32m━━━━━━━━━━━━━━━━━━━━\u001b[0m\u001b[37m\u001b[0m \u001b[1m3s\u001b[0m 77ms/step - loss: 2.7743e-04 - mean_squared_error: 2.7743e-04\n",
            "Epoch 100/100\n",
            "\u001b[1m38/38\u001b[0m \u001b[32m━━━━━━━━━━━━━━━━━━━━\u001b[0m\u001b[37m\u001b[0m \u001b[1m4s\u001b[0m 55ms/step - loss: 2.7760e-04 - mean_squared_error: 2.7760e-04\n"
          ]
        }
      ]
    },
    {
      "cell_type": "markdown",
      "source": [
        "# **Visualizing Performance**"
      ],
      "metadata": {
        "id": "4ZGKl57JBaES"
      }
    },
    {
      "cell_type": "code",
      "source": [
        "plt.plot(history.history[\"loss\"])\n",
        "plt.plot(history.history[\"mean_squared_error\"])\n",
        "plt.legend(['Mean Squared Error','Mean Squared Error'])\n",
        "plt.title(\"Losses\")\n",
        "plt.xlabel(\"epochs\")\n",
        "plt.ylabel(\"loss\")\n",
        "plt.show()"
      ],
      "metadata": {
        "id": "EZR9r7xnbq6Z",
        "outputId": "54b95796-c6b7-4e49-8c32-0ef7308007fd",
        "execution": {
          "iopub.status.busy": "2022-09-23T14:26:59.502704Z",
          "iopub.execute_input": "2022-09-23T14:26:59.503456Z",
          "iopub.status.idle": "2022-09-23T14:26:59.731955Z",
          "shell.execute_reply.started": "2022-09-23T14:26:59.503394Z",
          "shell.execute_reply": "2022-09-23T14:26:59.730951Z"
        },
        "trusted": true,
        "colab": {
          "base_uri": "https://localhost:8080/",
          "height": 472
        }
      },
      "execution_count": 24,
      "outputs": [
        {
          "output_type": "display_data",
          "data": {
            "text/plain": [
              "<Figure size 640x480 with 1 Axes>"
            ],
            "image/png": "[encoded data removed]"
          },
          "metadata": {}
        }
      ]
    },
    {
      "cell_type": "markdown",
      "source": [
        "# **Creating testing set**"
      ],
      "metadata": {
        "id": "VmhTj9eYCMBb"
      }
    },
    {
      "cell_type": "code",
      "source": [
        "# Creating a testing set with 60 time-steps and 1 output\n",
        "x_test = []\n",
        "y_test = []\n",
        "\n",
        "for i in range(60, len(test_data)):\n",
        "    x_test.append(test_data[i-60:i, 0])\n",
        "    y_test.append(test_data[i, 0])\n",
        "x_test, y_test = np.array(x_test), np.array(y_test)\n",
        "x_test = np.reshape(x_test, (x_test.shape[0], x_test.shape[1], 1))\n"
      ],
      "metadata": {
        "id": "wSabrWkuv6pX",
        "execution": {
          "iopub.status.busy": "2022-09-23T14:26:59.733143Z",
          "iopub.execute_input": "2022-09-23T14:26:59.733528Z",
          "iopub.status.idle": "2022-09-23T14:26:59.741498Z",
          "shell.execute_reply.started": "2022-09-23T14:26:59.733499Z",
          "shell.execute_reply": "2022-09-23T14:26:59.739967Z"
        },
        "trusted": true
      },
      "execution_count": 25,
      "outputs": []
    },
    {
      "cell_type": "code",
      "source": [
        "x_test.shape , y_test.shape"
      ],
      "metadata": {
        "outputId": "fc36795a-5ef5-420c-8bea-2a14b64fdb0e",
        "id": "syt3snW3xWv5",
        "execution": {
          "iopub.status.busy": "2022-09-23T14:26:59.742703Z",
          "iopub.execute_input": "2022-09-23T14:26:59.743029Z",
          "iopub.status.idle": "2022-09-23T14:26:59.757130Z",
          "shell.execute_reply.started": "2022-09-23T14:26:59.743000Z",
          "shell.execute_reply": "2022-09-23T14:26:59.756070Z"
        },
        "trusted": true,
        "colab": {
          "base_uri": "https://localhost:8080/"
        }
      },
      "execution_count": 26,
      "outputs": [
        {
          "output_type": "execute_result",
          "data": {
            "text/plain": [
              "((423, 60, 1), (423,))"
            ]
          },
          "metadata": {},
          "execution_count": 26
        }
      ]
    },
    {
      "cell_type": "markdown",
      "source": [
        "# **Predicting Testing data**"
      ],
      "metadata": {
        "id": "CnY9PvpfBAdz"
      }
    },
    {
      "cell_type": "code",
      "source": [
        "#inverse y_test scaling\n",
        "predictions = model.predict(x_test)\n",
        "\n",
        "#inverse predictions scaling\n",
        "predictions = scaler.inverse_transform(predictions)\n",
        "predictions.shape"
      ],
      "metadata": {
        "id": "Ak6H1dlkhWkv",
        "outputId": "da407a2b-98f2-4fc9-956e-dc0e88c91121",
        "execution": {
          "iopub.status.busy": "2022-09-23T14:26:59.758351Z",
          "iopub.execute_input": "2022-09-23T14:26:59.758666Z",
          "iopub.status.idle": "2022-09-23T14:27:01.031723Z",
          "shell.execute_reply.started": "2022-09-23T14:26:59.758638Z",
          "shell.execute_reply": "2022-09-23T14:27:01.030306Z"
        },
        "trusted": true,
        "colab": {
          "base_uri": "https://localhost:8080/"
        }
      },
      "execution_count": 27,
      "outputs": [
        {
          "output_type": "stream",
          "name": "stdout",
          "text": [
            "\u001b[1m14/14\u001b[0m \u001b[32m━━━━━━━━━━━━━━━━━━━━\u001b[0m\u001b[37m\u001b[0m \u001b[1m1s\u001b[0m 42ms/step\n"
          ]
        },
        {
          "output_type": "execute_result",
          "data": {
            "text/plain": [
              "(423, 1)"
            ]
          },
          "metadata": {},
          "execution_count": 27
        }
      ]
    },
    {
      "cell_type": "markdown",
      "source": [
        "**Root mean square error**"
      ],
      "metadata": {
        "id": "X5wAguT0ArhL"
      }
    },
    {
      "cell_type": "code",
      "source": [
        "#inverse y_test scaling\n",
        "y_test = scaler.inverse_transform([y_test])\n",
        "\n",
        "RMSE = np.sqrt(np.mean( y_test - predictions )**2).round(2)\n",
        "RMSE"
      ],
      "metadata": {
        "id": "YyX3f1zL9lPN",
        "outputId": "ac7f9494-4e39-4bf3-8a3a-ffc21111dc51",
        "execution": {
          "iopub.status.busy": "2022-09-23T14:27:01.033719Z",
          "iopub.execute_input": "2022-09-23T14:27:01.034153Z",
          "iopub.status.idle": "2022-09-23T14:27:01.044849Z",
          "shell.execute_reply.started": "2022-09-23T14:27:01.034113Z",
          "shell.execute_reply": "2022-09-23T14:27:01.043489Z"
        },
        "trusted": true,
        "colab": {
          "base_uri": "https://localhost:8080/"
        }
      },
      "execution_count": 28,
      "outputs": [
        {
          "output_type": "execute_result",
          "data": {
            "text/plain": [
              "1.58"
            ]
          },
          "metadata": {},
          "execution_count": 28
        }
      ]
    },
    {
      "cell_type": "markdown",
      "source": [
        "# **Visualize Predictions with The Data**"
      ],
      "metadata": {
        "id": "v5A8kV1zA3AS"
      }
    },
    {
      "cell_type": "code",
      "source": [
        "train = dataset.iloc[:train_size , 0:1]\n",
        "test = dataset.iloc[train_size: , 0:1]\n",
        "test['Predictions'] = predictions\n",
        "\n",
        "plt.figure(figsize=(16,6))\n",
        "plt.title('Tesla Open Stock Price Prediction' , fontsize=18)\n",
        "plt.xlabel('Date', fontsize=18)\n",
        "plt.ylabel('Open Price' ,fontsize=18)\n",
        "plt.plot(train['Open'],linewidth=3)\n",
        "plt.plot(test['Open'],linewidth=3)\n",
        "plt.plot(test[\"Predictions\"],linewidth=3)\n",
        "plt.legend(['Train','Test','Predictions'])"
      ],
      "metadata": {
        "id": "yQ3p1iHv1bAz",
        "outputId": "e0957867-7959-4e32-e99f-1f2931246efa",
        "execution": {
          "iopub.status.busy": "2022-09-23T14:27:01.046461Z",
          "iopub.execute_input": "2022-09-23T14:27:01.047136Z",
          "iopub.status.idle": "2022-09-23T14:27:01.391183Z",
          "shell.execute_reply.started": "2022-09-23T14:27:01.047093Z",
          "shell.execute_reply": "2022-09-23T14:27:01.389855Z"
        },
        "trusted": true,
        "colab": {
          "base_uri": "https://localhost:8080/",
          "height": 596
        }
      },
      "execution_count": 29,
      "outputs": [
        {
          "output_type": "execute_result",
          "data": {
            "text/plain": [
              "<matplotlib.legend.Legend at 0x7ebeac9d2590>"
            ]
          },
          "metadata": {},
          "execution_count": 29
        },
        {
          "output_type": "display_data",
          "data": {
            "text/plain": [
              "<Figure size 1600x600 with 1 Axes>"
            ],
            "image/png": "[encoded data removed]"
          },
          "metadata": {}
        }
      ]
    },
    {
      "cell_type": "code",
      "source": [],
      "metadata": {
        "id": "hwj4dZjRqxnO"
      },
      "execution_count": null,
      "outputs": []
    }
  ]
}